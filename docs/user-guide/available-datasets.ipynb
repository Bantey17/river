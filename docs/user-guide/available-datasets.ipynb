{
 "cells": [
  {
   "cell_type": "markdown",
   "metadata": {},
   "source": [
    "# Available datasets"
   ]
  },
  {
   "cell_type": "markdown",
   "metadata": {},
   "source": [
    "As mentionned in the [Reading data](reading-data) section, `creme` makes available some datasets to play around with:"
   ]
  },
  {
   "cell_type": "code",
   "execution_count": 1,
   "metadata": {},
   "outputs": [
    {
     "data": {
      "text/plain": [
       "['AirlinePassengers',\n",
       " 'Bananas',\n",
       " 'Bikes',\n",
       " 'ChickWeights',\n",
       " 'CreditCard',\n",
       " 'Elec2',\n",
       " 'HTTP',\n",
       " 'Higgs',\n",
       " 'ImageSegments',\n",
       " 'Insects',\n",
       " 'MaliciousURL',\n",
       " 'MovieLens100K',\n",
       " 'Music',\n",
       " 'Phishing',\n",
       " 'Restaurants',\n",
       " 'SMSSpam',\n",
       " 'SMTP',\n",
       " 'SolarFlare',\n",
       " 'TREC07',\n",
       " 'Taxis',\n",
       " 'TrumpApproval']"
      ]
     },
     "execution_count": 1,
     "metadata": {},
     "output_type": "execute_result"
    }
   ],
   "source": [
    "from creme import stream\n",
    "\n",
    "stream.available_datasets()"
   ]
  },
  {
   "cell_type": "markdown",
   "metadata": {},
   "source": [
    "## Regression"
   ]
  },
  {
   "cell_type": "code",
   "execution_count": 10,
   "metadata": {},
   "outputs": [
    {
     "data": {
      "text/plain": [
       "\u001b[0;31mInit signature:\u001b[0m \u001b[0mfilter\u001b[0m\u001b[0;34m(\u001b[0m\u001b[0mself\u001b[0m\u001b[0;34m,\u001b[0m \u001b[0;34m/\u001b[0m\u001b[0;34m,\u001b[0m \u001b[0;34m*\u001b[0m\u001b[0margs\u001b[0m\u001b[0;34m,\u001b[0m \u001b[0;34m**\u001b[0m\u001b[0mkwargs\u001b[0m\u001b[0;34m)\u001b[0m\u001b[0;34m\u001b[0m\u001b[0;34m\u001b[0m\u001b[0m\n",
       "\u001b[0;31mDocstring:\u001b[0m     \n",
       "filter(function or None, iterable) --> filter object\n",
       "\n",
       "Return an iterator yielding those items of iterable for which function(item)\n",
       "is true. If function is None, return the items that are true.\n",
       "\u001b[0;31mType:\u001b[0m           type\n",
       "\u001b[0;31mSubclasses:\u001b[0m     \n"
      ]
     },
     "metadata": {},
     "output_type": "display_data"
    }
   ],
   "source": [
    "?filter"
   ]
  },
  {
   "cell_type": "code",
   "execution_count": 19,
   "metadata": {},
   "outputs": [
    {
     "name": "stdout",
     "output_type": "stream",
     "text": [
      "AirlinePassengers dataset\n",
      "\n",
      "              Task  Regression                                                                   \n",
      " Number of samples  144                                                                          \n",
      "Number of features  1                                                                            \n",
      "            Sparse  False                                                                        \n",
      "              Path  /Users/mhalford/projects/creme-ml/creme/creme/datasets/airline-passengers.csv\n",
      "\n",
      "--------------------\n",
      "\n",
      "Bikes dataset\n",
      "\n",
      "              Task  Regression                                                    \n",
      " Number of samples  182,470                                                       \n",
      "Number of features  8                                                             \n",
      "            Sparse  False                                                         \n",
      "              Path  /Users/mhalford/creme_data/Bikes/toulouse_bikes.csv           \n",
      "               URL  https://maxhalford.github.io/files/datasets/toulouse_bikes.zip\n",
      "              Size  12.52 MB                                                      \n",
      "        Downloaded  True                                                          \n",
      "\n",
      "--------------------\n",
      "\n",
      "ChickWeights dataset\n",
      "\n",
      "              Task  Regression                                                              \n",
      " Number of samples  578                                                                     \n",
      "Number of features  3                                                                       \n",
      "            Sparse  False                                                                   \n",
      "              Path  /Users/mhalford/projects/creme-ml/creme/creme/datasets/chick-weights.csv\n",
      "\n",
      "--------------------\n",
      "\n",
      "MovieLens100K dataset\n",
      "\n",
      "              Task  Regression                                             \n",
      " Number of samples  100,000                                                \n",
      "Number of features  10                                                     \n",
      "            Sparse  False                                                  \n",
      "              Path  /Users/mhalford/creme_data/MovieLens100K/ml_100k.csv   \n",
      "               URL  https://maxhalford.github.io/files/datasets/ml_100k.zip\n",
      "              Size  10.55 MB                                               \n",
      "        Downloaded  True                                                   \n",
      "\n",
      "--------------------\n",
      "\n",
      "Restaurants dataset\n",
      "\n",
      "              Task  Regression                                                                \n",
      " Number of samples  252,108                                                                   \n",
      "Number of features  7                                                                         \n",
      "            Sparse  False                                                                     \n",
      "              Path  /Users/mhalford/creme_data/Restaurants/kaggle_recruit_restaurants.csv     \n",
      "               URL  https://maxhalford.github.io/files/datasets/kaggle_recruit_restaurants.zip\n",
      "              Size  27.54 MB                                                                  \n",
      "        Downloaded  False                                                                     \n",
      "\n",
      "--------------------\n",
      "\n",
      "Taxis dataset\n",
      "\n",
      "              Task  Regression                                               \n",
      " Number of samples  1,458,644                                                \n",
      "Number of features  8                                                        \n",
      "            Sparse  False                                                    \n",
      "              Path  /Users/mhalford/creme_data/Taxis/train.csv               \n",
      "               URL  https://maxhalford.github.io/files/datasets/nyc_taxis.zip\n",
      "              Size  186.23 MB                                                \n",
      "        Downloaded  False                                                    \n",
      "\n",
      "--------------------\n",
      "\n",
      "TrumpApproval dataset\n",
      "\n",
      "              Task  Regression                                                                  \n",
      " Number of samples  1,001                                                                       \n",
      "Number of features  6                                                                           \n",
      "            Sparse  False                                                                       \n",
      "              Path  /Users/mhalford/projects/creme-ml/creme/creme/datasets/trump_approval.csv.gz\n"
     ]
    }
   ],
   "source": [
    "def print_datasets(task):\n",
    "    datasets = filter(lambda dataset: dataset.task == task, (\n",
    "        stream.iter_dataset(name)\n",
    "        for name in stream.available_datasets()\n",
    "    ))\n",
    "    print(f\"\\n\\n{'-' * 20}\\n\\n\".join(map(str, datasets)))\n",
    "            \n",
    "print_datasets('Regression')"
   ]
  },
  {
   "cell_type": "markdown",
   "metadata": {},
   "source": [
    "## Binary classification"
   ]
  },
  {
   "cell_type": "code",
   "execution_count": 20,
   "metadata": {},
   "outputs": [
    {
     "name": "stdout",
     "output_type": "stream",
     "text": [
      "Bananas dataset\n",
      "\n",
      "              Task  Binary classification                                            \n",
      " Number of samples  5,300                                                            \n",
      "Number of features  2                                                                \n",
      "            Sparse  False                                                            \n",
      "              Path  /Users/mhalford/projects/creme-ml/creme/creme/datasets/banana.zip\n",
      "\n",
      "--------------------\n",
      "\n",
      "CreditCard dataset\n",
      "\n",
      "              Task  Binary classification                                          \n",
      " Number of samples  150,828,752                                                    \n",
      "Number of features  30                                                             \n",
      "            Sparse  False                                                          \n",
      "              Path  /Users/mhalford/creme_data/CreditCard/creditcard.csv           \n",
      "               URL  https://maxhalford.github.io/files/datasets/creditcardfraud.zip\n",
      "              Size  143.84 MB                                                      \n",
      "        Downloaded  True                                                           \n",
      "\n",
      "--------------------\n",
      "\n",
      "Elec2 dataset\n",
      "\n",
      "              Task  Binary classification                                      \n",
      " Number of samples  45,312                                                     \n",
      "Number of features  8                                                          \n",
      "            Sparse  False                                                      \n",
      "              Path  /Users/mhalford/creme_data/Elec2/electricity.csv           \n",
      "               URL  https://maxhalford.github.io/files/datasets/electricity.zip\n",
      "              Size  2.95 MB                                                    \n",
      "        Downloaded  False                                                      \n",
      "\n",
      "--------------------\n",
      "\n",
      "HTTP dataset\n",
      "\n",
      "              Task  Binary classification                                     \n",
      " Number of samples  567,498                                                   \n",
      "Number of features  3                                                         \n",
      "            Sparse  False                                                     \n",
      "              Path  /Users/mhalford/creme_data/HTTP/kdd99_http.csv            \n",
      "               URL  https://maxhalford.github.io/files/datasets/kdd99_http.zip\n",
      "              Size  30.9 MB                                                   \n",
      "        Downloaded  False                                                     \n",
      "\n",
      "--------------------\n",
      "\n",
      "Higgs dataset\n",
      "\n",
      "              Task  Binary classification                                                       \n",
      " Number of samples  11,000,000                                                                  \n",
      "Number of features  28                                                                          \n",
      "            Sparse  False                                                                       \n",
      "              Path  /Users/mhalford/creme_data/Higgs/HIGGS.csv.gz                               \n",
      "               URL  https://archive.ics.uci.edu/ml/machine-learning-databases/00280/HIGGS.csv.gz\n",
      "              Size  2.62 GB                                                                     \n",
      "        Downloaded  True                                                                        \n",
      "\n",
      "--------------------\n",
      "\n",
      "MaliciousURL dataset\n",
      "\n",
      "              Task  Binary classification                                      \n",
      " Number of samples  2,396,130                                                  \n",
      "Number of features  3,231,961                                                  \n",
      "            Sparse  True                                                       \n",
      "              Path  /Users/mhalford/creme_data/MaliciousURL/url_svmlight       \n",
      "               URL  http://www.sysnet.ucsd.edu/projects/url/url_svmlight.tar.gz\n",
      "              Size  2.06 GB                                                    \n",
      "        Downloaded  False                                                      \n",
      "\n",
      "--------------------\n",
      "\n",
      "Phishing dataset\n",
      "\n",
      "              Task  Binary classification                                                 \n",
      " Number of samples  1,250                                                                 \n",
      "Number of features  9                                                                     \n",
      "            Sparse  False                                                                 \n",
      "              Path  /Users/mhalford/projects/creme-ml/creme/creme/datasets/phishing.csv.gz\n",
      "\n",
      "--------------------\n",
      "\n",
      "SMSSpam dataset\n",
      "\n",
      "              Task  Binary classification                                                                \n",
      " Number of samples  5,574                                                                                \n",
      "Number of features  1                                                                                    \n",
      "            Sparse  False                                                                                \n",
      "              Path  /Users/mhalford/creme_data/SMSSpam/SMSSpamCollection                                 \n",
      "               URL  https://archive.ics.uci.edu/ml/machine-learning-databases/00228/smsspamcollection.zip\n",
      "              Size  466.71 KB                                                                            \n",
      "        Downloaded  False                                                                                \n",
      "\n",
      "--------------------\n",
      "\n",
      "SMTP dataset\n",
      "\n",
      "              Task  Binary classification                               \n",
      " Number of samples  95,156                                              \n",
      "Number of features  3                                                   \n",
      "            Sparse  False                                               \n",
      "              Path  /Users/mhalford/creme_data/SMTP/smtp.csv            \n",
      "               URL  https://maxhalford.github.io/files/datasets/smtp.zip\n",
      "              Size  5.23 MB                                             \n",
      "        Downloaded  False                                               \n",
      "\n",
      "--------------------\n",
      "\n",
      "TREC07 dataset\n",
      "\n",
      "              Task  Binary classification                                  \n",
      " Number of samples  75,419                                                 \n",
      "Number of features  5                                                      \n",
      "            Sparse  False                                                  \n",
      "              Path  /Users/mhalford/creme_data/TREC07/trec07p.csv          \n",
      "               URL  https://maxhalford.github.io/files/datasets/trec07p.zip\n",
      "              Size  137.81 MB                                              \n",
      "        Downloaded  False                                                  \n"
     ]
    }
   ],
   "source": [
    "print_datasets('Binary classification')"
   ]
  },
  {
   "cell_type": "markdown",
   "metadata": {},
   "source": [
    "## Multi-class classification"
   ]
  },
  {
   "cell_type": "code",
   "execution_count": 21,
   "metadata": {},
   "outputs": [
    {
     "name": "stdout",
     "output_type": "stream",
     "text": [
      "ImageSegments dataset\n",
      "\n",
      "              Task  Multi-class classification                                            \n",
      " Number of samples  2,310                                                                 \n",
      "Number of features  18                                                                    \n",
      "            Sparse  False                                                                 \n",
      "              Path  /Users/mhalford/projects/creme-ml/creme/creme/datasets/segment.csv.zip\n",
      "\n",
      "--------------------\n",
      "\n",
      "Insects dataset, abrupt_balanced variant\n",
      "\n",
      "              Task  Multi-class classification                                                              \n",
      " Number of samples  52,848                                                                                  \n",
      "Number of features  33                                                                                      \n",
      " Number of classes  6                                                                                       \n",
      "            Sparse  False                                                                                   \n",
      "              Path  /Users/mhalford/creme_data/Insects/INSECTS-abrupt_balanced_norm.arff                    \n",
      "               URL  http://sites.labic.icmc.usp.br/vsouza/repository/creme/INSECTS-abrupt_balanced_norm.arff\n",
      "              Size  15.66 MB                                                                                \n",
      "        Downloaded  False                                                                                   \n"
     ]
    }
   ],
   "source": [
    "print_datasets('Multi-class classification')"
   ]
  },
  {
   "cell_type": "markdown",
   "metadata": {},
   "source": [
    "Note that the `'Insects'` dataset has multiple variants:"
   ]
  },
  {
   "cell_type": "code",
   "execution_count": 5,
   "metadata": {},
   "outputs": [
    {
     "data": {
      "text/plain": [
       "['abrupt_balanced',\n",
       " 'abrupt_imbalanced',\n",
       " 'gradual_balanced',\n",
       " 'gradual_imbalanced',\n",
       " 'incremental-abrupt_balanced',\n",
       " 'incremental-abrupt_imbalanced',\n",
       " 'incremental-reoccurring_balanced',\n",
       " 'incremental-reoccurring_imbalanced',\n",
       " 'incremental_balanced',\n",
       " 'incremental_imbalanced',\n",
       " 'out-of-control']"
      ]
     },
     "execution_count": 5,
     "metadata": {},
     "output_type": "execute_result"
    }
   ],
   "source": [
    "insects = stream.iter_dataset('Insects')\n",
    "insects.variants"
   ]
  },
  {
   "cell_type": "markdown",
   "metadata": {},
   "source": [
    "You can load a particular variant by passing a keyword argument to `iter_dataset`: "
   ]
  },
  {
   "cell_type": "code",
   "execution_count": 8,
   "metadata": {},
   "outputs": [
    {
     "data": {
      "text/plain": [
       "Insects dataset, abrupt_imbalanced variant\n",
       "\n",
       "              Task  Multi-class classification                                                                \n",
       " Number of samples  355,275                                                                                   \n",
       "Number of features  33                                                                                        \n",
       " Number of classes  6                                                                                         \n",
       "            Sparse  False                                                                                     \n",
       "              Path  /Users/mhalford/creme_data/Insects/INSECTS-abrupt_imbalanced_norm.arff                    \n",
       "               URL  http://sites.labic.icmc.usp.br/vsouza/repository/creme/INSECTS-abrupt_imbalanced_norm.arff\n",
       "              Size  104.95 MB                                                                                 \n",
       "        Downloaded  False                                                                                     "
      ]
     },
     "execution_count": 8,
     "metadata": {},
     "output_type": "execute_result"
    }
   ],
   "source": [
    "dataset = stream.iter_dataset('Insects', variant='abrupt_imbalanced')\n",
    "dataset"
   ]
  },
  {
   "cell_type": "markdown",
   "metadata": {},
   "source": [
    "## Multi-output binary classification"
   ]
  },
  {
   "cell_type": "code",
   "execution_count": 22,
   "metadata": {},
   "outputs": [
    {
     "name": "stdout",
     "output_type": "stream",
     "text": [
      "Music dataset\n",
      "\n",
      "              Task  Multi-output binary classification                                                    \n",
      " Number of samples  593                                                                                   \n",
      "Number of features  72                                                                                    \n",
      " Number of outputs  6                                                                                     \n",
      "            Sparse  False                                                                                 \n",
      "              Path  /Users/mhalford/creme_data/Music/music.csv                                            \n",
      "               URL  https://raw.githubusercontent.com/scikit-multiflow/streaming-datasets/master/music.csv\n",
      "              Size  370.1 KB                                                                              \n",
      "        Downloaded  True                                                                                  \n"
     ]
    }
   ],
   "source": [
    "print_datasets('Multi-output binary classification')"
   ]
  },
  {
   "cell_type": "markdown",
   "metadata": {},
   "source": [
    "## Multi-output regression"
   ]
  },
  {
   "cell_type": "code",
   "execution_count": 23,
   "metadata": {},
   "outputs": [
    {
     "name": "stdout",
     "output_type": "stream",
     "text": [
      "SolarFlare dataset\n",
      "\n",
      "              Task  Multi-output regression                                                   \n",
      " Number of samples  1,066                                                                     \n",
      "Number of features  10                                                                        \n",
      " Number of outputs  3                                                                         \n",
      "            Sparse  False                                                                     \n",
      "              Path  /Users/mhalford/projects/creme-ml/creme/creme/datasets/solar-flare.csv.zip\n"
     ]
    }
   ],
   "source": [
    "print_datasets('Multi-output regression')"
   ]
  }
 ],
 "metadata": {
  "kernelspec": {
   "display_name": "Python 3",
   "language": "python",
   "name": "python3"
  },
  "language_info": {
   "codemirror_mode": {
    "name": "ipython",
    "version": 3
   },
   "file_extension": ".py",
   "mimetype": "text/x-python",
   "name": "python",
   "nbconvert_exporter": "python",
   "pygments_lexer": "ipython3",
   "version": "3.7.7"
  }
 },
 "nbformat": 4,
 "nbformat_minor": 4
}
