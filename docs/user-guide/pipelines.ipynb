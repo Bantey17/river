{
 "cells": [
  {
   "cell_type": "markdown",
   "metadata": {},
   "source": [
    "# Pipelines"
   ]
  },
  {
   "cell_type": "markdown",
   "metadata": {},
   "source": [
    "Pipelines are an integral part of river. We encourage their usage and apply them in many of their examples.\n",
    "\n",
    "The `compose.Pipeline` contains all the logic for building and applying pipelines. A pipeline is essentially a list of estimators that are applied in sequence. The only requirement is that the first `n - 1` steps be transformers. The last step can be a regressor, a classifier, a clusterer, a transformer, etc. Here is an example:"
   ]
  },
  {
   "cell_type": "code",
   "execution_count": 1,
   "metadata": {
    "execution": {
     "iopub.execute_input": "2021-09-02T16:22:07.938559Z",
     "iopub.status.busy": "2021-09-02T16:22:07.936999Z",
     "iopub.status.idle": "2021-09-02T16:22:08.986026Z",
     "shell.execute_reply": "2021-09-02T16:22:08.986454Z"
    }
   },
   "outputs": [],
   "source": [
    "from river import compose\n",
    "from river import linear_model\n",
    "from river import preprocessing\n",
    "from river import feature_extraction\n",
    "\n",
    "model = compose.Pipeline(\n",
    "    preprocessing.StandardScaler(),\n",
    "    feature_extraction.PolynomialExtender(),\n",
    "    linear_model.LinearRegression()\n",
    ")"
   ]
  },
  {
   "cell_type": "markdown",
   "metadata": {},
   "source": [
    "You can also use the `|` operator, as so:"
   ]
  },
  {
   "cell_type": "code",
   "execution_count": 2,
   "metadata": {
    "execution": {
     "iopub.execute_input": "2021-09-02T16:22:08.990626Z",
     "iopub.status.busy": "2021-09-02T16:22:08.989604Z",
     "iopub.status.idle": "2021-09-02T16:22:08.991658Z",
     "shell.execute_reply": "2021-09-02T16:22:08.992125Z"
    }
   },
   "outputs": [],
   "source": [
    "model = (\n",
    "    preprocessing.StandardScaler() |\n",
    "    feature_extraction.PolynomialExtender() |\n",
    "    linear_model.LinearRegression()\n",
    ")"
   ]
  },
  {
   "cell_type": "markdown",
   "metadata": {},
   "source": [
    "Or, equally:"
   ]
  },
  {
   "cell_type": "code",
   "execution_count": 3,
   "metadata": {
    "execution": {
     "iopub.execute_input": "2021-09-02T16:22:08.997042Z",
     "iopub.status.busy": "2021-09-02T16:22:08.996445Z",
     "iopub.status.idle": "2021-09-02T16:22:08.997997Z",
     "shell.execute_reply": "2021-09-02T16:22:08.998467Z"
    }
   },
   "outputs": [],
   "source": [
    "model = preprocessing.StandardScaler() \n",
    "model |= feature_extraction.PolynomialExtender()\n",
    "model |= linear_model.LinearRegression()"
   ]
  },
  {
   "cell_type": "markdown",
   "metadata": {},
   "source": [
    "A pipeline has a `draw` method that can be used to visualize it:"
   ]
  },
  {
   "cell_type": "code",
   "execution_count": 4,
   "metadata": {
    "execution": {
     "iopub.execute_input": "2021-09-02T16:22:09.010131Z",
     "iopub.status.busy": "2021-09-02T16:22:09.009435Z",
     "iopub.status.idle": "2021-09-02T16:22:09.014603Z",
     "shell.execute_reply": "2021-09-02T16:22:09.016428Z"
    }
   },
   "outputs": [
    {
     "data": {
      "text/html": [
       "<html><body><div class=\"pipeline\"><details class=\"estimator\"><summary><pre class=\"estimator-name\">StandardScaler</pre></summary><code class=\"estimator-params\">\n",
       "{'counts': Counter(),\n",
       " 'means': defaultdict(&lt;class 'float'&gt;, {}),\n",
       " 'vars': defaultdict(&lt;class 'float'&gt;, {}),\n",
       " 'with_std': True}\n",
       "\n",
       "</code></details><details class=\"estimator\"><summary><pre class=\"estimator-name\">PolynomialExtender</pre></summary><code class=\"estimator-params\">\n",
       "{'bias_name': 'bias',\n",
       " 'degree': 2,\n",
       " 'include_bias': False,\n",
       " 'interaction_only': False}\n",
       "\n",
       "</code></details><details class=\"estimator\"><summary><pre class=\"estimator-name\">LinearRegression</pre></summary><code class=\"estimator-params\">\n",
       "{'_weights': {},\n",
       " '_y_name': None,\n",
       " 'clip_gradient': 1000000000000.0,\n",
       " 'initializer': Zeros (),\n",
       " 'intercept': 0.0,\n",
       " 'intercept_init': 0.0,\n",
       " 'intercept_lr': Constant({'learning_rate': 0.01}),\n",
       " 'l2': 0.0,\n",
       " 'loss': Squared({}),\n",
       " 'optimizer': SGD({'lr': Constant({'learning_rate': 0.01}), 'n_iterations': 0})}\n",
       "\n",
       "</code></details></div></body><style>\n",
       ".estimator {\n",
       "    padding: 1em;\n",
       "    border-style: solid;\n",
       "    background: white;\n",
       "}\n",
       "\n",
       ".pipeline {\n",
       "    display: flex;\n",
       "    flex-direction: column;\n",
       "    align-items: center;\n",
       "    background: linear-gradient(#000, #000) no-repeat center / 3px 100%;\n",
       "}\n",
       "\n",
       ".union {\n",
       "    display: flex;\n",
       "    flex-direction: row;\n",
       "    align-items: center;\n",
       "    justify-content: center;\n",
       "    padding: 1em;\n",
       "    border-style: solid;\n",
       "    background: white\n",
       "}\n",
       "\n",
       "/* Vertical spacing between steps */\n",
       "\n",
       ".estimator + .estimator,\n",
       ".estimator + .union,\n",
       ".union + .estimator {\n",
       "    margin-top: 2em;\n",
       "}\n",
       "\n",
       ".union > .estimator {\n",
       "    margin-top: 0;\n",
       "}\n",
       "\n",
       "/* Spacing within a union of estimators */\n",
       "\n",
       ".union >\n",
       ".estimator + .estimator,\n",
       ".pipeline + .estimator,\n",
       ".estimator + .pipeline,\n",
       ".pipeline + .pipeline {\n",
       "    margin-left: 1em;\n",
       "}\n",
       "\n",
       "/* Typography */\n",
       ".estimator-params {\n",
       "    display: block;\n",
       "    white-space: pre-wrap;\n",
       "    font-size: 120%;\n",
       "    margin-bottom: -1em;\n",
       "}\n",
       "\n",
       ".estimator > code {\n",
       "    background-color: white !important;\n",
       "}\n",
       "\n",
       ".estimator-name {\n",
       "    display: inline;\n",
       "    margin: 0;\n",
       "    font-size: 130%;\n",
       "}\n",
       "\n",
       "/* Toggle */\n",
       "\n",
       "summary {\n",
       "    display: flex;\n",
       "    align-items:center;\n",
       "    cursor: pointer;\n",
       "}\n",
       "\n",
       "summary > div {\n",
       "    width: 100%;\n",
       "}\n",
       "</style></html>"
      ],
      "text/plain": [
       "Pipeline (\n",
       "  StandardScaler (\n",
       "    with_std=True\n",
       "  ),\n",
       "  PolynomialExtender (\n",
       "    degree=2\n",
       "    interaction_only=False\n",
       "    include_bias=False\n",
       "    bias_name=\"bias\"\n",
       "  ),\n",
       "  LinearRegression (\n",
       "    optimizer=SGD (\n",
       "      lr=Constant (\n",
       "        learning_rate=0.01\n",
       "      )\n",
       "    )\n",
       "    loss=Squared ()\n",
       "    l2=0.\n",
       "    intercept_init=0.\n",
       "    intercept_lr=Constant (\n",
       "      learning_rate=0.01\n",
       "    )\n",
       "    clip_gradient=1e+12\n",
       "    initializer=Zeros ()\n",
       "  )\n",
       ")"
      ]
     },
     "execution_count": 1,
     "metadata": {},
     "output_type": "execute_result"
    }
   ],
   "source": [
    "model"
   ]
  },
  {
   "cell_type": "markdown",
   "metadata": {},
   "source": [
    "`compose.Pipeline` inherits from `base.Estimator`, which means that it has a `learn_one` method. You would expect `learn_one` to update each estimator, but **that's not actually what happens**. Instead, the transformers are updated when `predict_one` (or `predict_proba_one` for that matter) is called. Indeed, in online machine learning, we can update the unsupervised parts of our model when a sample arrives. We don't have to wait for the ground truth to arrive in order to update unsupervised estimators that don't depend on it. In other words, in a pipeline, `learn_one` updates the supervised parts, whilst `predict_one` updates the unsupervised parts. It's important to be aware of this behavior, as it is quite different to what is done in other libraries that rely on batch machine learning.\n",
    "\n",
    "Here is a small example to illustrate the previous point:"
   ]
  },
  {
   "cell_type": "code",
   "execution_count": 5,
   "metadata": {
    "execution": {
     "iopub.execute_input": "2021-09-02T16:22:09.024887Z",
     "iopub.status.busy": "2021-09-02T16:22:09.023535Z",
     "iopub.status.idle": "2021-09-02T16:22:09.029106Z",
     "shell.execute_reply": "2021-09-02T16:22:09.029556Z"
    }
   },
   "outputs": [
    {
     "data": {
      "text/plain": [
       "({'ordinal_date': 736389,\n",
       "  'gallup': 43.843213,\n",
       "  'ipsos': 46.19925042857143,\n",
       "  'morning_consult': 48.318749,\n",
       "  'rasmussen': 44.104692,\n",
       "  'you_gov': 43.636914000000004},\n",
       " 43.75505)"
      ]
     },
     "execution_count": 1,
     "metadata": {},
     "output_type": "execute_result"
    }
   ],
   "source": [
    "from river import datasets\n",
    "\n",
    "dataset = datasets.TrumpApproval()\n",
    "x, y = next(iter(dataset))\n",
    "x, y"
   ]
  },
  {
   "cell_type": "markdown",
   "metadata": {},
   "source": [
    "Let us call `predict_one`, which will update each transformer, but won't update the linear regression."
   ]
  },
  {
   "cell_type": "code",
   "execution_count": 6,
   "metadata": {
    "execution": {
     "iopub.execute_input": "2021-09-02T16:22:09.033553Z",
     "iopub.status.busy": "2021-09-02T16:22:09.032940Z",
     "iopub.status.idle": "2021-09-02T16:22:09.035686Z",
     "shell.execute_reply": "2021-09-02T16:22:09.035231Z"
    }
   },
   "outputs": [
    {
     "data": {
      "text/plain": [
       "0.0"
      ]
     },
     "execution_count": 1,
     "metadata": {},
     "output_type": "execute_result"
    }
   ],
   "source": [
    "model.predict_one(x)"
   ]
  },
  {
   "cell_type": "markdown",
   "metadata": {},
   "source": [
    "The prediction is nil because each weight of the linear regression is equal to 0."
   ]
  },
  {
   "cell_type": "code",
   "execution_count": 7,
   "metadata": {
    "execution": {
     "iopub.execute_input": "2021-09-02T16:22:09.075878Z",
     "iopub.status.busy": "2021-09-02T16:22:09.075060Z",
     "iopub.status.idle": "2021-09-02T16:22:09.077644Z",
     "shell.execute_reply": "2021-09-02T16:22:09.078385Z"
    }
   },
   "outputs": [
    {
     "data": {
      "text/plain": [
       "defaultdict(float,\n",
       "            {'ordinal_date': 736389.0,\n",
       "             'gallup': 43.843213,\n",
       "             'ipsos': 46.19925042857143,\n",
       "             'morning_consult': 48.318749,\n",
       "             'rasmussen': 44.104692,\n",
       "             'you_gov': 43.636914000000004})"
      ]
     },
     "execution_count": 1,
     "metadata": {},
     "output_type": "execute_result"
    }
   ],
   "source": [
    "model['StandardScaler'].means"
   ]
  },
  {
   "cell_type": "markdown",
   "metadata": {},
   "source": [
    "As we can see, the means of each feature have been updated, even though we called `predict_one` and not `learn_one`.\n",
    "\n",
    "Note that if you call `transform_one` with a pipeline who's last step is not a transformer, then the output from the last transformer (which is thus the penultimate step) will be returned:"
   ]
  },
  {
   "cell_type": "code",
   "execution_count": 8,
   "metadata": {
    "execution": {
     "iopub.execute_input": "2021-09-02T16:22:09.083973Z",
     "iopub.status.busy": "2021-09-02T16:22:09.083331Z",
     "iopub.status.idle": "2021-09-02T16:22:09.085806Z",
     "shell.execute_reply": "2021-09-02T16:22:09.086270Z"
    }
   },
   "outputs": [
    {
     "data": {
      "text/plain": [
       "{'ordinal_date': 0.0,\n",
       " 'gallup': 0.0,\n",
       " 'ipsos': 0.0,\n",
       " 'morning_consult': 0.0,\n",
       " 'rasmussen': 0.0,\n",
       " 'you_gov': 0.0,\n",
       " 'ordinal_date*ordinal_date': 0.0,\n",
       " 'gallup*ordinal_date': 0.0,\n",
       " 'ipsos*ordinal_date': 0.0,\n",
       " 'morning_consult*ordinal_date': 0.0,\n",
       " 'ordinal_date*rasmussen': 0.0,\n",
       " 'ordinal_date*you_gov': 0.0,\n",
       " 'gallup*gallup': 0.0,\n",
       " 'gallup*ipsos': 0.0,\n",
       " 'gallup*morning_consult': 0.0,\n",
       " 'gallup*rasmussen': 0.0,\n",
       " 'gallup*you_gov': 0.0,\n",
       " 'ipsos*ipsos': 0.0,\n",
       " 'ipsos*morning_consult': 0.0,\n",
       " 'ipsos*rasmussen': 0.0,\n",
       " 'ipsos*you_gov': 0.0,\n",
       " 'morning_consult*morning_consult': 0.0,\n",
       " 'morning_consult*rasmussen': 0.0,\n",
       " 'morning_consult*you_gov': 0.0,\n",
       " 'rasmussen*rasmussen': 0.0,\n",
       " 'rasmussen*you_gov': 0.0,\n",
       " 'you_gov*you_gov': 0.0}"
      ]
     },
     "execution_count": 1,
     "metadata": {},
     "output_type": "execute_result"
    }
   ],
   "source": [
    "model.transform_one(x)"
   ]
  },
  {
   "cell_type": "markdown",
   "metadata": {},
   "source": [
    "In many cases, you might want to connect a step to multiple steps. For instance, you might to extract different kinds of features from a single input. An elegant way to do this is to use a `compose.TransformerUnion`. Essentially, the latter is a list of transformers who's results will be merged into a single `dict` when `transform_one` is called. As an example let's say that we want to apply a `feature_extraction.RBFSampler` as well as the `feature_extraction.PolynomialExtender`. This may be done as so:"
   ]
  },
  {
   "cell_type": "code",
   "execution_count": 9,
   "metadata": {
    "execution": {
     "iopub.execute_input": "2021-09-02T16:22:09.092423Z",
     "iopub.status.busy": "2021-09-02T16:22:09.089294Z",
     "iopub.status.idle": "2021-09-02T16:22:09.095041Z",
     "shell.execute_reply": "2021-09-02T16:22:09.095523Z"
    }
   },
   "outputs": [
    {
     "data": {
      "text/html": [
       "<html><body><div class=\"pipeline\"><details class=\"estimator\"><summary><pre class=\"estimator-name\">StandardScaler</pre></summary><code class=\"estimator-params\">\n",
       "{'counts': Counter(),\n",
       " 'means': defaultdict(&lt;class 'float'&gt;, {}),\n",
       " 'vars': defaultdict(&lt;class 'float'&gt;, {}),\n",
       " 'with_std': True}\n",
       "\n",
       "</code></details><div class=\"union\"><details class=\"estimator\"><summary><pre class=\"estimator-name\">PolynomialExtender</pre></summary><code class=\"estimator-params\">\n",
       "{'bias_name': 'bias',\n",
       " 'degree': 2,\n",
       " 'include_bias': False,\n",
       " 'interaction_only': False}\n",
       "\n",
       "</code></details><details class=\"estimator\"><summary><pre class=\"estimator-name\">RBFSampler</pre></summary><code class=\"estimator-params\">\n",
       "{'gamma': 1.0,\n",
       " 'n_components': 100,\n",
       " 'offsets': [5.40319886163907,\n",
       "             1.6410242429846016,\n",
       "             2.9102505212582352,\n",
       "             1.2502497289471197,\n",
       "             1.6599819506345908,\n",
       "             0.9905000367712694,\n",
       "             2.733090767224682,\n",
       "             4.620746211242217,\n",
       "             2.852398674434833,\n",
       "             2.476005155469144,\n",
       "             3.7388007297528816,\n",
       "             5.646400674828576,\n",
       "             3.6227497381819425,\n",
       "             4.749089309393084,\n",
       "             1.4884201177246816,\n",
       "             0.6620783374639668,\n",
       "             5.373190414753098,\n",
       "             5.275452969586568,\n",
       "             3.2621017095010485,\n",
       "             5.393146766246767,\n",
       "             1.223265495606927,\n",
       "             2.0411736263752953,\n",
       "             5.553580538930083,\n",
       "             4.10986679876461,\n",
       "             6.235554966861734,\n",
       "             0.4643626338300455,\n",
       "             0.7817900181257065,\n",
       "             0.8011940519896001,\n",
       "             4.052099753388222,\n",
       "             2.909807284332097,\n",
       "             3.34510955200856,\n",
       "             0.3493140121007998,\n",
       "             5.402607818879578,\n",
       "             3.3087431285569493,\n",
       "             1.8770747192053943,\n",
       "             4.01284630848113,\n",
       "             2.474480980660175,\n",
       "             0.2501484424124193,\n",
       "             5.8711331722594995,\n",
       "             4.057584696495738,\n",
       "             3.8164961475303794,\n",
       "             0.06634520341680332,\n",
       "             5.8565647315792235,\n",
       "             0.1847353689415499,\n",
       "             5.382451632052383,\n",
       "             3.011163589617232,\n",
       "             1.7522981577704155,\n",
       "             4.2331865374090984,\n",
       "             2.9867710560333927,\n",
       "             4.433570469239939,\n",
       "             2.4306908395425553,\n",
       "             4.410215591556303,\n",
       "             5.380236343065923,\n",
       "             2.640146753638325,\n",
       "             3.2230721786004044,\n",
       "             4.287528278000641,\n",
       "             3.7882931545627048,\n",
       "             4.667545445964917,\n",
       "             2.921414671761127,\n",
       "             1.625105282481997,\n",
       "             5.351157082446773,\n",
       "             2.2249830555738033,\n",
       "             0.41897902600140907,\n",
       "             4.798923547622566,\n",
       "             0.5031333518481544,\n",
       "             3.2612135038369066,\n",
       "             2.9675308240998395,\n",
       "             1.1389886230155741,\n",
       "             0.6804135746493921,\n",
       "             5.001111709332776,\n",
       "             1.3026367122959899,\n",
       "             5.442518462695327,\n",
       "             2.6475839991470536,\n",
       "             3.2467017672206873,\n",
       "             2.5583103981305917,\n",
       "             4.121664457069394,\n",
       "             1.6644131911945859,\n",
       "             5.635212438790749,\n",
       "             2.0520138088916995,\n",
       "             2.7215315131799485,\n",
       "             1.2082918732869392,\n",
       "             0.6419157988676313,\n",
       "             5.355430804977489,\n",
       "             3.863611291623673,\n",
       "             5.493444748277504,\n",
       "             3.9141646461679795,\n",
       "             4.702303680693544,\n",
       "             2.6397887943831235,\n",
       "             3.4407364580864517,\n",
       "             0.7644840870081152,\n",
       "             5.025314138394125,\n",
       "             3.1860810516030793,\n",
       "             0.6846299445357678,\n",
       "             3.901352049120776,\n",
       "             0.7555553455686381,\n",
       "             3.7131726729981533,\n",
       "             2.0153584522084187,\n",
       "             5.571985454181369,\n",
       "             0.006569980732336922,\n",
       "             2.7015961406802824],\n",
       " 'rng': &lt;random.Random object at 0x7fb947bf3610&gt;,\n",
       " 'seed': None,\n",
       " 'weights': defaultdict(&lt;bound method RBFSampler._random_weights of RBFSampler (\n",
       "  gamma=1.\n",
       "  n_components=100\n",
       "  seed=None\n",
       ")&gt;, {})}\n",
       "\n",
       "</code></details></div><details class=\"estimator\"><summary><pre class=\"estimator-name\">LinearRegression</pre></summary><code class=\"estimator-params\">\n",
       "{'_weights': {},\n",
       " '_y_name': None,\n",
       " 'clip_gradient': 1000000000000.0,\n",
       " 'initializer': Zeros (),\n",
       " 'intercept': 0.0,\n",
       " 'intercept_init': 0.0,\n",
       " 'intercept_lr': Constant({'learning_rate': 0.01}),\n",
       " 'l2': 0.0,\n",
       " 'loss': Squared({}),\n",
       " 'optimizer': SGD({'lr': Constant({'learning_rate': 0.01}), 'n_iterations': 0})}\n",
       "\n",
       "</code></details></div></body><style>\n",
       ".estimator {\n",
       "    padding: 1em;\n",
       "    border-style: solid;\n",
       "    background: white;\n",
       "}\n",
       "\n",
       ".pipeline {\n",
       "    display: flex;\n",
       "    flex-direction: column;\n",
       "    align-items: center;\n",
       "    background: linear-gradient(#000, #000) no-repeat center / 3px 100%;\n",
       "}\n",
       "\n",
       ".union {\n",
       "    display: flex;\n",
       "    flex-direction: row;\n",
       "    align-items: center;\n",
       "    justify-content: center;\n",
       "    padding: 1em;\n",
       "    border-style: solid;\n",
       "    background: white\n",
       "}\n",
       "\n",
       "/* Vertical spacing between steps */\n",
       "\n",
       ".estimator + .estimator,\n",
       ".estimator + .union,\n",
       ".union + .estimator {\n",
       "    margin-top: 2em;\n",
       "}\n",
       "\n",
       ".union > .estimator {\n",
       "    margin-top: 0;\n",
       "}\n",
       "\n",
       "/* Spacing within a union of estimators */\n",
       "\n",
       ".union >\n",
       ".estimator + .estimator,\n",
       ".pipeline + .estimator,\n",
       ".estimator + .pipeline,\n",
       ".pipeline + .pipeline {\n",
       "    margin-left: 1em;\n",
       "}\n",
       "\n",
       "/* Typography */\n",
       ".estimator-params {\n",
       "    display: block;\n",
       "    white-space: pre-wrap;\n",
       "    font-size: 120%;\n",
       "    margin-bottom: -1em;\n",
       "}\n",
       "\n",
       ".estimator > code {\n",
       "    background-color: white !important;\n",
       "}\n",
       "\n",
       ".estimator-name {\n",
       "    display: inline;\n",
       "    margin: 0;\n",
       "    font-size: 130%;\n",
       "}\n",
       "\n",
       "/* Toggle */\n",
       "\n",
       "summary {\n",
       "    display: flex;\n",
       "    align-items:center;\n",
       "    cursor: pointer;\n",
       "}\n",
       "\n",
       "summary > div {\n",
       "    width: 100%;\n",
       "}\n",
       "</style></html>"
      ],
      "text/plain": [
       "Pipeline (\n",
       "  StandardScaler (\n",
       "    with_std=True\n",
       "  ),\n",
       "  TransformerUnion (\n",
       "    PolynomialExtender (\n",
       "      degree=2\n",
       "      interaction_only=False\n",
       "      include_bias=False\n",
       "      bias_name=\"bias\"\n",
       "    ),\n",
       "    RBFSampler (\n",
       "      gamma=1.\n",
       "      n_components=100\n",
       "      seed=None\n",
       "    )\n",
       "  ),\n",
       "  LinearRegression (\n",
       "    optimizer=SGD (\n",
       "      lr=Constant (\n",
       "        learning_rate=0.01\n",
       "      )\n",
       "    )\n",
       "    loss=Squared ()\n",
       "    l2=0.\n",
       "    intercept_init=0.\n",
       "    intercept_lr=Constant (\n",
       "      learning_rate=0.01\n",
       "    )\n",
       "    clip_gradient=1e+12\n",
       "    initializer=Zeros ()\n",
       "  )\n",
       ")"
      ]
     },
     "execution_count": 1,
     "metadata": {},
     "output_type": "execute_result"
    }
   ],
   "source": [
    "model = (\n",
    "    preprocessing.StandardScaler() |\n",
    "    (feature_extraction.PolynomialExtender() + feature_extraction.RBFSampler()) |\n",
    "    linear_model.LinearRegression()\n",
    ")\n",
    "\n",
    "model"
   ]
  },
  {
   "cell_type": "markdown",
   "metadata": {},
   "source": [
    "Note that the `+` symbol acts as a shorthand notation for creating a `compose.TransformerUnion`, which means that we could have declared the above pipeline as so:"
   ]
  },
  {
   "cell_type": "code",
   "execution_count": 10,
   "metadata": {
    "execution": {
     "iopub.execute_input": "2021-09-02T16:22:09.099665Z",
     "iopub.status.busy": "2021-09-02T16:22:09.098988Z",
     "iopub.status.idle": "2021-09-02T16:22:09.101111Z",
     "shell.execute_reply": "2021-09-02T16:22:09.101542Z"
    }
   },
   "outputs": [],
   "source": [
    "model = (\n",
    "    preprocessing.StandardScaler() |\n",
    "    compose.TransformerUnion(\n",
    "        feature_extraction.PolynomialExtender(),\n",
    "        feature_extraction.RBFSampler()\n",
    "    ) |\n",
    "    linear_model.LinearRegression()\n",
    ")"
   ]
  },
  {
   "cell_type": "markdown",
   "metadata": {},
   "source": [
    "Pipelines provide the benefit of removing a lot of cruft by taking care of tedious details for you. They also enable to clearly define what steps your model is made of. Finally, having your model in a single object means that you can move it around more easily. Note that you can include user-defined functions in a pipeline by using a `compose.FuncTransformer`."
   ]
  }
 ],
 "metadata": {
  "kernelspec": {
   "display_name": "Python 3",
   "language": "python",
   "name": "python3"
  },
  "language_info": {
   "codemirror_mode": {
    "name": "ipython",
    "version": 3
   },
   "file_extension": ".py",
   "mimetype": "text/x-python",
   "name": "python",
   "nbconvert_exporter": "python",
   "pygments_lexer": "ipython3",
   "version": "3.8.5"
  }
 },
 "nbformat": 4,
 "nbformat_minor": 4
}
