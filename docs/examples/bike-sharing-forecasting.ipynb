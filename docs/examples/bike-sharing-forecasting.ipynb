{
 "cells": [
  {
   "cell_type": "markdown",
   "metadata": {},
   "source": [
    "# Bike-sharing forecasting"
   ]
  },
  {
   "cell_type": "markdown",
   "metadata": {},
   "source": [
    "In this tutorial we're going to forecast the number of bikes in 5 bike stations from the city of Toulouse. We'll do so by building a simple model step by step. The dataset contains 182,470 observations. Let's first take a peak at the data."
   ]
  },
  {
   "cell_type": "code",
   "execution_count": 1,
   "metadata": {},
   "outputs": [
    {
     "name": "stdout",
     "output_type": "stream",
     "text": [
      "{'clouds': 75,\n",
      " 'description': 'light rain',\n",
      " 'humidity': 81,\n",
      " 'moment': datetime.datetime(2016, 4, 1, 0, 0, 7),\n",
      " 'pressure': 1017.0,\n",
      " 'station': 'metro-canal-du-midi',\n",
      " 'temperature': 6.54,\n",
      " 'wind': 9.3}\n",
      "Number of available bikes: 1\n"
     ]
    }
   ],
   "source": [
    "from pprint import pprint\n",
    "from river import datasets\n",
    "\n",
    "X_y = datasets.Bikes()\n",
    "\n",
    "for x, y in X_y:\n",
    "    pprint(x)\n",
    "    print(f'Number of available bikes: {y}')\n",
    "    break"
   ]
  },
  {
   "cell_type": "markdown",
   "metadata": {},
   "source": [
    "Let's start by using a simple linear regression on the numeric features. We can select the numeric features and discard the rest of the features using a `Select`. Linear regression is very likely to go haywire if we don't scale the data, so we'll use a `StandardScaler` to do just that. We'll evaluate the model by measuring the mean absolute error. Finally we'll print the score every 20,000 observations. "
   ]
  },
  {
   "cell_type": "code",
   "execution_count": 2,
   "metadata": {},
   "outputs": [
    {
     "name": "stdout",
     "output_type": "stream",
     "text": [
      "[20,000] MAE: 4.912727\n",
      "[40,000] MAE: 5.333554\n",
      "[60,000] MAE: 5.330948\n",
      "[80,000] MAE: 5.392313\n",
      "[100,000] MAE: 5.423059\n",
      "[120,000] MAE: 5.541223\n",
      "[140,000] MAE: 5.613023\n",
      "[160,000] MAE: 5.622428\n",
      "[180,000] MAE: 5.567824\n"
     ]
    },
    {
     "data": {
      "text/plain": [
       "MAE: 5.563893"
      ]
     },
     "execution_count": 2,
     "metadata": {},
     "output_type": "execute_result"
    }
   ],
   "source": [
    "from river import compose\n",
    "from river import linear_model\n",
    "from river import metrics\n",
    "from river import evaluate\n",
    "from river import preprocessing\n",
    "from river import optim\n",
    "\n",
    "X_y = datasets.Bikes()\n",
    "\n",
    "model = compose.Select('clouds', 'humidity', 'pressure', 'temperature', 'wind')\n",
    "model |= preprocessing.StandardScaler()\n",
    "model |= linear_model.LinearRegression(optimizer=optim.SGD(0.001))\n",
    "\n",
    "metric = metrics.MAE()\n",
    "\n",
    "evaluate.progressive_val_score(X_y, model, metric, print_every=20_000)"
   ]
  },
  {
   "cell_type": "markdown",
   "metadata": {},
   "source": [
    "The model doesn't seem to be doing that well, but then again we didn't provide a lot of features. Generally, a good idea for this kind of problem is to look at an average of the previous values. For example, for each station we can look at the average number of bikes per hour. To do so we first have to extract the hour from the  `moment` field. We can then use a `TargetAgg` to aggregate the values of the target."
   ]
  },
  {
   "cell_type": "code",
   "execution_count": 3,
   "metadata": {},
   "outputs": [
    {
     "name": "stdout",
     "output_type": "stream",
     "text": [
      "[20,000] MAE: 3.721246\n",
      "[40,000] MAE: 3.829972\n",
      "[60,000] MAE: 3.845068\n",
      "[80,000] MAE: 3.910259\n",
      "[100,000] MAE: 3.888652\n",
      "[120,000] MAE: 3.923727\n",
      "[140,000] MAE: 3.980953\n",
      "[160,000] MAE: 3.950034\n",
      "[180,000] MAE: 3.934545\n"
     ]
    },
    {
     "data": {
      "text/plain": [
       "MAE: 3.933498"
      ]
     },
     "execution_count": 3,
     "metadata": {},
     "output_type": "execute_result"
    }
   ],
   "source": [
    "from river import feature_extraction\n",
    "from river import stats\n",
    "\n",
    "X_y = iter(datasets.Bikes())\n",
    "\n",
    "def get_hour(x):\n",
    "    x['hour'] = x['moment'].hour\n",
    "    return x\n",
    "\n",
    "model = compose.Select('clouds', 'humidity', 'pressure', 'temperature', 'wind')\n",
    "model += (\n",
    "    get_hour |\n",
    "    feature_extraction.TargetAgg(by=['station', 'hour'], how=stats.Mean())\n",
    ")\n",
    "model |= preprocessing.StandardScaler()\n",
    "model |= linear_model.LinearRegression(optimizer=optim.SGD(0.001))\n",
    "\n",
    "metric = metrics.MAE()\n",
    "\n",
    "evaluate.progressive_val_score(X_y, model, metric, print_every=20_000)"
   ]
  },
  {
   "cell_type": "markdown",
   "metadata": {},
   "source": [
    "By adding a single feature, we've managed to significantly reduce the mean absolute error. At this point you might think that the model is getting slightly complex, and is difficult to understand and test. Pipelines have the advantage of being terse, but they aren't always to debug. Thankfully `river` has some ways to relieve the pain.\n",
    "\n",
    "The first thing we can do it to draw the pipeline, to get an idea of how the data flows through it."
   ]
  },
  {
   "cell_type": "code",
   "execution_count": 4,
   "metadata": {},
   "outputs": [
    {
     "data": {
      "image/svg+xml": [
       "<?xml version=\"1.0\" encoding=\"UTF-8\" standalone=\"no\"?>\n",
       "<!DOCTYPE svg PUBLIC \"-//W3C//DTD SVG 1.1//EN\"\n",
       " \"http://www.w3.org/Graphics/SVG/1.1/DTD/svg11.dtd\">\n",
       "<!-- Generated by graphviz version 2.40.1 (20161225.0304)\n",
       " -->\n",
       "<!-- Title: %3 Pages: 1 -->\n",
       "<svg width=\"700pt\" height=\"404pt\"\n",
       " viewBox=\"0.00 0.00 700.32 404.00\" xmlns=\"http://www.w3.org/2000/svg\" xmlns:xlink=\"http://www.w3.org/1999/xlink\">\n",
       "<g id=\"graph0\" class=\"graph\" transform=\"scale(1 1) rotate(0) translate(4 400)\">\n",
       "<title>%3</title>\n",
       "<polygon fill=\"#ffffff\" stroke=\"transparent\" points=\"-4,4 -4,-400 696.3201,-400 696.3201,4 -4,4\"/>\n",
       "<!-- x -->\n",
       "<g id=\"node1\" class=\"node\">\n",
       "<title>x</title>\n",
       "<ellipse fill=\"none\" stroke=\"#000000\" cx=\"377.1822\" cy=\"-378\" rx=\"27\" ry=\"18\"/>\n",
       "<text text-anchor=\"middle\" x=\"377.1822\" y=\"-374.3\" font-family=\"Times,serif\" font-size=\"14.00\" fill=\"#000000\">x</text>\n",
       "</g>\n",
       "<!-- [&#39;clouds&#39;, &#39;humidity&#39;, &#39;pressure&#39;, &#39;temperature&#39;, &#39;wind&#39;] -->\n",
       "<g id=\"node2\" class=\"node\">\n",
       "<title>[&#39;clouds&#39;, &#39;humidity&#39;, &#39;pressure&#39;, &#39;temperature&#39;, &#39;wind&#39;]</title>\n",
       "<ellipse fill=\"none\" stroke=\"#000000\" cx=\"200.1822\" cy=\"-234\" rx=\"200.3646\" ry=\"18\"/>\n",
       "<text text-anchor=\"middle\" x=\"200.1822\" y=\"-230.3\" font-family=\"Times,serif\" font-size=\"14.00\" fill=\"#000000\">[&#39;clouds&#39;, &#39;humidity&#39;, &#39;pressure&#39;, &#39;temperature&#39;, &#39;wind&#39;]</text>\n",
       "</g>\n",
       "<!-- x&#45;&gt;[&#39;clouds&#39;, &#39;humidity&#39;, &#39;pressure&#39;, &#39;temperature&#39;, &#39;wind&#39;] -->\n",
       "<g id=\"edge1\" class=\"edge\">\n",
       "<title>x&#45;&gt;[&#39;clouds&#39;, &#39;humidity&#39;, &#39;pressure&#39;, &#39;temperature&#39;, &#39;wind&#39;]</title>\n",
       "<path fill=\"none\" stroke=\"#000000\" d=\"M359.8885,-363.9305C329.8042,-339.4552 267.4935,-288.7617 230.2193,-258.4369\"/>\n",
       "<polygon fill=\"#000000\" stroke=\"#000000\" points=\"232.1824,-255.5221 222.2165,-251.9261 227.7648,-260.952 232.1824,-255.5221\"/>\n",
       "</g>\n",
       "<!-- get_hour -->\n",
       "<g id=\"node3\" class=\"node\">\n",
       "<title>get_hour</title>\n",
       "<ellipse fill=\"none\" stroke=\"#000000\" cx=\"484.1822\" cy=\"-306\" rx=\"42.7926\" ry=\"18\"/>\n",
       "<text text-anchor=\"middle\" x=\"484.1822\" y=\"-302.3\" font-family=\"Times,serif\" font-size=\"14.00\" fill=\"#000000\">get_hour</text>\n",
       "</g>\n",
       "<!-- x&#45;&gt;get_hour -->\n",
       "<g id=\"edge3\" class=\"edge\">\n",
       "<title>x&#45;&gt;get_hour</title>\n",
       "<path fill=\"none\" stroke=\"#000000\" d=\"M396.3117,-365.1278C411.9125,-354.6301 434.2751,-339.5824 452.536,-327.2947\"/>\n",
       "<polygon fill=\"#000000\" stroke=\"#000000\" points=\"454.7807,-330.0029 461.1233,-321.5163 450.8727,-324.1953 454.7807,-330.0029\"/>\n",
       "</g>\n",
       "<!-- StandardScaler -->\n",
       "<g id=\"node5\" class=\"node\">\n",
       "<title>StandardScaler</title>\n",
       "<ellipse fill=\"none\" stroke=\"#000000\" cx=\"377.1822\" cy=\"-162\" rx=\"65.7887\" ry=\"18\"/>\n",
       "<text text-anchor=\"middle\" x=\"377.1822\" y=\"-158.3\" font-family=\"Times,serif\" font-size=\"14.00\" fill=\"#000000\">StandardScaler</text>\n",
       "</g>\n",
       "<!-- [&#39;clouds&#39;, &#39;humidity&#39;, &#39;pressure&#39;, &#39;temperature&#39;, &#39;wind&#39;]&#45;&gt;StandardScaler -->\n",
       "<g id=\"edge4\" class=\"edge\">\n",
       "<title>[&#39;clouds&#39;, &#39;humidity&#39;, &#39;pressure&#39;, &#39;temperature&#39;, &#39;wind&#39;]&#45;&gt;StandardScaler</title>\n",
       "<path fill=\"none\" stroke=\"#000000\" d=\"M243.4813,-216.3868C269.9151,-205.6341 303.7031,-191.8898 330.6989,-180.9085\"/>\n",
       "<polygon fill=\"#000000\" stroke=\"#000000\" points=\"332.367,-184.0085 340.3112,-176.9984 329.7294,-177.5244 332.367,-184.0085\"/>\n",
       "</g>\n",
       "<!-- target_mean_by_station_and_hour -->\n",
       "<g id=\"node4\" class=\"node\">\n",
       "<title>target_mean_by_station_and_hour</title>\n",
       "<ellipse fill=\"none\" stroke=\"#000000\" cx=\"555.1822\" cy=\"-234\" rx=\"137.2758\" ry=\"18\"/>\n",
       "<text text-anchor=\"middle\" x=\"555.1822\" y=\"-230.3\" font-family=\"Times,serif\" font-size=\"14.00\" fill=\"#000000\">target_mean_by_station_and_hour</text>\n",
       "</g>\n",
       "<!-- get_hour&#45;&gt;target_mean_by_station_and_hour -->\n",
       "<g id=\"edge2\" class=\"edge\">\n",
       "<title>get_hour&#45;&gt;target_mean_by_station_and_hour</title>\n",
       "<path fill=\"none\" stroke=\"#000000\" d=\"M500.6495,-289.3008C509.4634,-280.3627 520.4996,-269.1711 530.3339,-259.1983\"/>\n",
       "<polygon fill=\"#000000\" stroke=\"#000000\" points=\"533.0339,-261.445 537.5633,-251.8671 528.0497,-256.53 533.0339,-261.445\"/>\n",
       "</g>\n",
       "<!-- target_mean_by_station_and_hour&#45;&gt;StandardScaler -->\n",
       "<g id=\"edge5\" class=\"edge\">\n",
       "<title>target_mean_by_station_and_hour&#45;&gt;StandardScaler</title>\n",
       "<path fill=\"none\" stroke=\"#000000\" d=\"M512.5468,-216.7542C485.6818,-205.8875 450.9971,-191.8577 423.4633,-180.7204\"/>\n",
       "<polygon fill=\"#000000\" stroke=\"#000000\" points=\"424.6299,-177.4169 414.0471,-176.9116 422.005,-183.9061 424.6299,-177.4169\"/>\n",
       "</g>\n",
       "<!-- LinearRegression -->\n",
       "<g id=\"node6\" class=\"node\">\n",
       "<title>LinearRegression</title>\n",
       "<ellipse fill=\"none\" stroke=\"#000000\" cx=\"377.1822\" cy=\"-90\" rx=\"74.9875\" ry=\"18\"/>\n",
       "<text text-anchor=\"middle\" x=\"377.1822\" y=\"-86.3\" font-family=\"Times,serif\" font-size=\"14.00\" fill=\"#000000\">LinearRegression</text>\n",
       "</g>\n",
       "<!-- StandardScaler&#45;&gt;LinearRegression -->\n",
       "<g id=\"edge6\" class=\"edge\">\n",
       "<title>StandardScaler&#45;&gt;LinearRegression</title>\n",
       "<path fill=\"none\" stroke=\"#000000\" d=\"M377.1822,-143.8314C377.1822,-136.131 377.1822,-126.9743 377.1822,-118.4166\"/>\n",
       "<polygon fill=\"#000000\" stroke=\"#000000\" points=\"380.6823,-118.4132 377.1822,-108.4133 373.6823,-118.4133 380.6823,-118.4132\"/>\n",
       "</g>\n",
       "<!-- y -->\n",
       "<g id=\"node7\" class=\"node\">\n",
       "<title>y</title>\n",
       "<ellipse fill=\"none\" stroke=\"#000000\" cx=\"377.1822\" cy=\"-18\" rx=\"27\" ry=\"18\"/>\n",
       "<text text-anchor=\"middle\" x=\"377.1822\" y=\"-14.3\" font-family=\"Times,serif\" font-size=\"14.00\" fill=\"#000000\">y</text>\n",
       "</g>\n",
       "<!-- LinearRegression&#45;&gt;y -->\n",
       "<g id=\"edge7\" class=\"edge\">\n",
       "<title>LinearRegression&#45;&gt;y</title>\n",
       "<path fill=\"none\" stroke=\"#000000\" d=\"M377.1822,-71.8314C377.1822,-64.131 377.1822,-54.9743 377.1822,-46.4166\"/>\n",
       "<polygon fill=\"#000000\" stroke=\"#000000\" points=\"380.6823,-46.4132 377.1822,-36.4133 373.6823,-46.4133 380.6823,-46.4132\"/>\n",
       "</g>\n",
       "</g>\n",
       "</svg>\n"
      ],
      "text/plain": [
       "<graphviz.dot.Digraph at 0x7fb81c8bde80>"
      ]
     },
     "execution_count": 4,
     "metadata": {},
     "output_type": "execute_result"
    }
   ],
   "source": [
    "model.draw()"
   ]
  },
  {
   "cell_type": "markdown",
   "metadata": {},
   "source": [
    "We can also use the `debug_one` method to see what happens to one particular instance. Let's train the model on the first 10,000 observations and then call `debug_one` on the next one. To do this, we will turn the `Bike` object into a Python generator with `iter()` function. The Pythonic way to read the first 10,000 elements of a generator is to use `itertools.islice`."
   ]
  },
  {
   "cell_type": "code",
   "execution_count": 5,
   "metadata": {},
   "outputs": [
    {
     "data": {
      "text/plain": [
       "'0. Input\\n--------\\nclouds: 0 (int)\\ndescription: clear sky (str)\\nhumidity: 52 (int)\\nmoment: 2016-04-10 19:03:27 (datetime)\\npressure: 1,001.00000 (float)\\nstation: place-esquirol (str)\\ntemperature: 19.00000 (float)\\nwind: 7.70000 (float)\\n\\n1. Transformer union\\n--------------------\\n    1.0 Select\\n    ----------\\n    clouds: 0 (int)\\n    humidity: 52 (int)\\n    pressure: 1,001.00000 (float)\\n    temperature: 19.00000 (float)\\n    wind: 7.70000 (float)\\n\\n    1.1 get_hour | target_mean_by_station_and_hour\\n    ----------------------------------------------\\n    target_mean_by_station_and_hour: 7.97175 (float)\\n\\nclouds: 0 (int)\\nhumidity: 52 (int)\\npressure: 1,001.00000 (float)\\ntarget_mean_by_station_and_hour: 7.97175 (float)\\ntemperature: 19.00000 (float)\\nwind: 7.70000 (float)\\n\\n2. StandardScaler\\n-----------------\\nclouds: -1.36138 (float)\\nhumidity: -1.73083 (float)\\npressure: -1.26076 (float)\\ntarget_mean_by_station_and_hour: 0.05496 (float)\\ntemperature: 1.76232 (float)\\nwind: 1.45841 (float)\\n\\n3. LinearRegression\\n-------------------\\nName                              Value      Weight     Contribution  \\n                      Intercept    1.00000    6.58252        6.58252  \\n                    temperature    1.76232    2.47030        4.35345  \\n                         clouds   -1.36138   -1.92255        2.61732  \\ntarget_mean_by_station_and_hour    0.05496    0.54167        0.02977  \\n                           wind    1.45841   -0.77720       -1.13348  \\n                       humidity   -1.73083    1.44921       -2.50833  \\n                       pressure   -1.26076    3.78529       -4.77234  \\n\\nPrediction: 5.16889'"
      ]
     },
     "execution_count": 5,
     "metadata": {},
     "output_type": "execute_result"
    }
   ],
   "source": [
    "import itertools\n",
    "\n",
    "X_y = iter(datasets.Bikes())\n",
    "\n",
    "model = compose.Select('clouds', 'humidity', 'pressure', 'temperature', 'wind')\n",
    "model += (\n",
    "    get_hour |\n",
    "    feature_extraction.TargetAgg(by=['station', 'hour'], how=stats.Mean())\n",
    ")\n",
    "model |= preprocessing.StandardScaler()\n",
    "model |= linear_model.LinearRegression()\n",
    "\n",
    "for x, y in itertools.islice(X_y, 10000):\n",
    "    y_pred = model.predict_one(x)\n",
    "    model.learn_one(x, y)\n",
    "    \n",
    "x, y = next(X_y)\n",
    "model.debug_one(x)"
   ]
  },
  {
   "cell_type": "markdown",
   "metadata": {},
   "source": [
    "The `debug_one` method shows what happens to an input set of features, step by step.\n",
    "\n",
    "And now comes the catch. Up until now we've been using the `progressive_val_score` method from the `evaluate` module. What this does it that it sequentially predicts the output of an observation and updates the model immediately afterwards. This way of doing is often used for evaluating online learning models, but in some cases it is the wrong approach.\n",
    "\n",
    "The following paragraph is extremely important. When evaluating a machine learning model, the goal is to simulate production conditions in order to get a trust-worthy assessment of the performance of the model. In our case, we typically want to forecast the number of bikes available in a station, say, 30 minutes ahead. Then, once the 30 minutes have passed, the true number of available bikes will be available and we will be able to update the model using the features available 30 minutes ago. If you think about, this is exactly how a real-time machine learning system should work. The problem is that this isn't what the `progressive_val_score` method is emulating, indeed it is simply asking the model to predict the next observation, which is only a few minutes ahead, and then updates the model immediately. We can prove that this is flawed by adding a feature that measures a running average of the very recent values."
   ]
  },
  {
   "cell_type": "code",
   "execution_count": 6,
   "metadata": {},
   "outputs": [
    {
     "name": "stdout",
     "output_type": "stream",
     "text": [
      "[20,000] MAE: 20.159286\n",
      "[40,000] MAE: 10.458898\n",
      "[60,000] MAE: 7.2759\n",
      "[80,000] MAE: 5.715397\n",
      "[100,000] MAE: 4.775094\n",
      "[120,000] MAE: 4.138421\n",
      "[140,000] MAE: 3.682591\n",
      "[160,000] MAE: 3.35015\n",
      "[180,000] MAE: 3.091398\n"
     ]
    },
    {
     "data": {
      "text/plain": [
       "MAE: 3.06414"
      ]
     },
     "execution_count": 6,
     "metadata": {},
     "output_type": "execute_result"
    }
   ],
   "source": [
    "X_y = datasets.Bikes()\n",
    "\n",
    "model = compose.Select('clouds', 'humidity', 'pressure', 'temperature', 'wind')\n",
    "model += (\n",
    "    get_hour |\n",
    "    feature_extraction.TargetAgg(by=['station', 'hour'], how=stats.Mean()) + \n",
    "    feature_extraction.TargetAgg(by='station', how=stats.EWMean(0.5))\n",
    ")\n",
    "model |= preprocessing.StandardScaler()\n",
    "model |= linear_model.LinearRegression()\n",
    "\n",
    "metric = metrics.MAE()\n",
    "\n",
    "evaluate.progressive_val_score(X_y, model, metric, print_every=20_000)"
   ]
  },
  {
   "cell_type": "markdown",
   "metadata": {},
   "source": [
    "The score we got is too good to be true. This is simply because the problem is too easy. What we really want is to evaluate the model by forecasting 30 minutes ahead and only updating the model once the true values are available. This can be done using the `moment` and `delay` parameters in the  `progressive_val_score` method. The idea is that each observation of the stream of the data is shown twice to the model: once for making a prediction, and once for updating the model when the true value is revealed. The `moment` parameter determines which variable should be used as a timestamp, while the `delay` parameter controls the duration to wait before revealing the true values to the model."
   ]
  },
  {
   "cell_type": "code",
   "execution_count": 7,
   "metadata": {},
   "outputs": [
    {
     "name": "stdout",
     "output_type": "stream",
     "text": [
      "[20,000] MAE: 2.24812\n",
      "[40,000] MAE: 2.240287\n",
      "[60,000] MAE: 2.270287\n",
      "[80,000] MAE: 2.28649\n",
      "[100,000] MAE: 2.294264\n",
      "[120,000] MAE: 2.275891\n",
      "[140,000] MAE: 2.261411\n",
      "[160,000] MAE: 2.285978\n",
      "[180,000] MAE: 2.289353\n"
     ]
    },
    {
     "data": {
      "text/plain": [
       "MAE: 2.29304"
      ]
     },
     "execution_count": 7,
     "metadata": {},
     "output_type": "execute_result"
    }
   ],
   "source": [
    "import datetime as dt\n",
    "\n",
    "model = compose.Select('clouds', 'humidity', 'pressure', 'temperature', 'wind')\n",
    "model += (\n",
    "    get_hour |\n",
    "    feature_extraction.TargetAgg(by=['station', 'hour'], how=stats.Mean()) + \n",
    "    feature_extraction.TargetAgg(by='station', how=stats.EWMean(0.5))\n",
    ")\n",
    "model |= preprocessing.StandardScaler()\n",
    "model |= linear_model.LinearRegression()\n",
    "\n",
    "evaluate.progressive_val_score(\n",
    "    dataset=datasets.Bikes(),\n",
    "    model=model,\n",
    "    metric=metrics.MAE(),\n",
    "    moment='moment',\n",
    "    delay=dt.timedelta(minutes=30),\n",
    "    print_every=20_000\n",
    ")"
   ]
  },
  {
   "cell_type": "markdown",
   "metadata": {},
   "source": [
    "The score we now have is much more realistic, as it is comparable with [related data science competitions](https://maxhalford.github.io/blog/a-short-introduction-and-conclusion-to-the-openbikes-2016-challenge/). Moreover, we can see that the model gets better with time, which feels better than the previous situations. The point is that `progressive_val_score` method can be used to simulate a production scenario, and is thus extremely valuable.\n",
    "\n",
    "Now that we have a working pipeline in place, we can attempt to make it more accurate. As a simple example, we'll using a `EWARegressor` from the `expert` module to combine 3 linear regression model trained with different optimizers. The `EWARegressor` will run the 3 models in parallel and assign weights to each model based on their individual performance."
   ]
  },
  {
   "cell_type": "code",
   "execution_count": 8,
   "metadata": {},
   "outputs": [
    {
     "name": "stdout",
     "output_type": "stream",
     "text": [
      "[20,000] MAE: 2.253263\n",
      "[40,000] MAE: 2.242859\n",
      "[60,000] MAE: 2.272001\n",
      "[80,000] MAE: 2.287776\n",
      "[100,000] MAE: 2.295292\n",
      "[120,000] MAE: 2.276748\n",
      "[140,000] MAE: 2.262146\n",
      "[160,000] MAE: 2.286621\n",
      "[180,000] MAE: 2.289925\n"
     ]
    },
    {
     "data": {
      "text/plain": [
       "MAE: 2.293604"
      ]
     },
     "execution_count": 8,
     "metadata": {},
     "output_type": "execute_result"
    }
   ],
   "source": [
    "from river import expert\n",
    "from river import optim\n",
    "\n",
    "model = compose.Select('clouds', 'humidity', 'pressure', 'temperature', 'wind')\n",
    "model += (\n",
    "    get_hour |\n",
    "    feature_extraction.TargetAgg(by=['station', 'hour'], how=stats.Mean())\n",
    ")\n",
    "model += feature_extraction.TargetAgg(by='station', how=stats.EWMean(0.5))\n",
    "model |= preprocessing.StandardScaler()\n",
    "model |= expert.EWARegressor([\n",
    "    linear_model.LinearRegression(optim.SGD()),\n",
    "    linear_model.LinearRegression(optim.RMSProp()),\n",
    "    linear_model.LinearRegression(optim.Adam())\n",
    "])\n",
    "\n",
    "evaluate.progressive_val_score(\n",
    "    dataset=datasets.Bikes(),\n",
    "    model=model,\n",
    "    metric=metrics.MAE(),\n",
    "    moment='moment',\n",
    "    delay=dt.timedelta(minutes=30),\n",
    "    print_every=20_000\n",
    ")"
   ]
  }
 ],
 "metadata": {
  "kernelspec": {
   "display_name": "Python 3",
   "language": "python",
   "name": "python3"
  },
  "language_info": {
   "codemirror_mode": {
    "name": "ipython",
    "version": 3
   },
   "file_extension": ".py",
   "mimetype": "text/x-python",
   "name": "python",
   "nbconvert_exporter": "python",
   "pygments_lexer": "ipython3",
   "version": "3.8.2"
  }
 },
 "nbformat": 4,
 "nbformat_minor": 4
}
