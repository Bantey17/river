{
 "cells": [
  {
   "cell_type": "markdown",
   "metadata": {},
   "source": [
    "# The art of using pipelines"
   ]
  },
  {
   "cell_type": "markdown",
   "metadata": {},
   "source": [
    "Pipelines are a natural way to think about a machine learning system. Indeed with some practice a data scientist can visualise data \"flowing\" through a series of steps. The input is typically some raw data which has to be processed in some manner. The goal is to represent the data in such a way that is can be ingested by a machine learning algorithm. Along the way some steps will extract features, while others will normalize the data and remove undesirable elements. Pipelines are simple, and yet they are a powerful way of designing sophisticated machine learning systems.\n",
    "\n",
    "Both [scikit-learn](https://stackoverflow.com/questions/33091376/python-what-is-exactly-sklearn-pipeline-pipeline) and [pandas](https://tomaugspurger.github.io/method-chaining) make it possible to use pipelines. However it's quite rare to see pipelines being used in practice (at least on Kaggle). Sometimes you get to see people using scikit-learn's `pipeline` module, however the `pipe` method from `pandas` is sadly underappreciated. A big reason why pipelines are not given much love is that it's easier to think of batch learning in terms of a script or a notebook. Indeed many people doing data science seem to prefer a procedural style to a declarative style. Moreover in practice pipelines can be a bit rigid if one wishes to do non-orthodox operations.\n",
    "\n",
    "Although pipelines may be a bit of an odd fit for batch learning, they make complete sense when they are used for online learning. Indeed the UNIX philosophy has advocated the use of pipelines for data processing for many decades. If you can visualise data as a stream of observations then using pipelines should make a lot of sense to you. We'll attempt to convince you by writing a machine learning algorithm in a procedural way and then converting it to a declarative pipeline in small steps. Hopefully by the end you'll be convinced, or not!\n",
    "\n",
    "In this notebook we'll manipulate data from the [Kaggle Recruit Restaurants Visitor Forecasting competition](https://www.kaggle.com/c/recruit-restaurant-visitor-forecasting). The data is directly available through `river`'s `datasets` module."
   ]
  },
  {
   "cell_type": "code",
   "execution_count": 1,
   "metadata": {},
   "outputs": [
    {
     "name": "stdout",
     "output_type": "stream",
     "text": [
      "{'area_name': 'Tōkyō-to Nerima-ku Toyotamakita',\n",
      " 'date': datetime.datetime(2016, 1, 1, 0, 0),\n",
      " 'genre_name': 'Izakaya',\n",
      " 'is_holiday': True,\n",
      " 'latitude': 35.7356234,\n",
      " 'longitude': 139.6516577,\n",
      " 'store_id': 'air_04341b588bde96cd'}\n",
      "10\n"
     ]
    }
   ],
   "source": [
    "from pprint import pprint\n",
    "from river import datasets\n",
    "\n",
    "for x, y in datasets.Restaurants():\n",
    "    pprint(x)\n",
    "    pprint(y)\n",
    "    break"
   ]
  },
  {
   "cell_type": "markdown",
   "metadata": {},
   "source": [
    "We'll start by building and running a model using a procedural coding style. The performance of the model doesn't matter, we're simply interested in the design of the model."
   ]
  },
  {
   "cell_type": "code",
   "execution_count": 2,
   "metadata": {},
   "outputs": [
    {
     "name": "stdout",
     "output_type": "stream",
     "text": [
      "MAE: 8.465114\n"
     ]
    }
   ],
   "source": [
    "from river import feature_extraction\n",
    "from river import linear_model\n",
    "from river import metrics\n",
    "from river import preprocessing\n",
    "from river import stats\n",
    "\n",
    "\n",
    "means = (\n",
    "    feature_extraction.TargetAgg(by='store_id', how=stats.RollingMean(7)),\n",
    "    feature_extraction.TargetAgg(by='store_id', how=stats.RollingMean(14)),\n",
    "    feature_extraction.TargetAgg(by='store_id', how=stats.RollingMean(21))\n",
    ")\n",
    "\n",
    "scaler = preprocessing.StandardScaler()\n",
    "lin_reg = linear_model.LinearRegression()\n",
    "metric = metrics.MAE()\n",
    "\n",
    "for x, y in datasets.Restaurants():\n",
    "    \n",
    "    # Derive date features\n",
    "    x['weekday'] = x['date'].weekday()\n",
    "    x['is_weekend'] = x['date'].weekday() in (5, 6)\n",
    "    \n",
    "    # Process the rolling means of the target  \n",
    "    for mean in means:\n",
    "        x = {**x, **mean.transform_one(x)}\n",
    "        mean.learn_one(x, y)\n",
    "    \n",
    "    # Remove the key/value pairs that aren't features\n",
    "    for key in ['store_id', 'date', 'genre_name', 'area_name', 'latitude', 'longitude']:\n",
    "        x.pop(key)\n",
    "    \n",
    "    # Rescale the data\n",
    "    x = scaler.learn_one(x).transform_one(x)\n",
    "    \n",
    "    # Fit the linear regression\n",
    "    y_pred = lin_reg.predict_one(x)\n",
    "    lin_reg.learn_one(x, y)\n",
    "    \n",
    "    # Update the metric using the out-of-fold prediction\n",
    "    metric.update(y, y_pred)\n",
    "    \n",
    "print(metric)"
   ]
  },
  {
   "cell_type": "markdown",
   "metadata": {},
   "source": [
    "We're not using many features. We can print the last `x` to get an idea of the features (don't forget they've been scaled!)"
   ]
  },
  {
   "cell_type": "code",
   "execution_count": 3,
   "metadata": {},
   "outputs": [
    {
     "name": "stdout",
     "output_type": "stream",
     "text": [
      "{'is_holiday': -0.23103573677646685,\n",
      " 'is_weekend': 1.6249280076334165,\n",
      " 'target_rollingmean_14_by_store_id': -1.4125913815779154,\n",
      " 'target_rollingmean_21_by_store_id': -1.3980979075298519,\n",
      " 'target_rollingmean_7_by_store_id': -1.3502314499809096,\n",
      " 'weekday': 1.0292832579142892}\n"
     ]
    }
   ],
   "source": [
    "pprint(x)"
   ]
  },
  {
   "cell_type": "markdown",
   "metadata": {},
   "source": [
    "The above chunk of code is quite explicit but it's a bit verbose. The whole point of libraries such as `river` is to make life easier for users. Moreover there's too much space for users to mess up the order in which things are done, which increases the chance of there being target leakage. We'll now rewrite our model in a declarative fashion using a pipeline *à la sklearn*.  "
   ]
  },
  {
   "cell_type": "code",
   "execution_count": 4,
   "metadata": {},
   "outputs": [
    {
     "name": "stdout",
     "output_type": "stream",
     "text": [
      "MAE: 8.38533\n"
     ]
    }
   ],
   "source": [
    "from river import compose\n",
    "\n",
    "\n",
    "def get_date_features(x):\n",
    "    weekday =  x['date'].weekday()\n",
    "    return {'weekday': weekday, 'is_weekend': weekday in (5, 6)}\n",
    "\n",
    "\n",
    "model = compose.Pipeline(\n",
    "    ('features', compose.TransformerUnion(\n",
    "        ('date_features', compose.FuncTransformer(get_date_features)),\n",
    "        ('last_7_mean', feature_extraction.TargetAgg(by='store_id', how=stats.RollingMean(7))),\n",
    "        ('last_14_mean', feature_extraction.TargetAgg(by='store_id', how=stats.RollingMean(14))),\n",
    "        ('last_21_mean', feature_extraction.TargetAgg(by='store_id', how=stats.RollingMean(21)))\n",
    "    )),\n",
    "    ('drop_non_features', compose.Discard('store_id', 'date', 'genre_name', 'area_name', 'latitude', 'longitude')),\n",
    "    ('scale', preprocessing.StandardScaler()),\n",
    "    ('lin_reg', linear_model.LinearRegression())\n",
    ")\n",
    "\n",
    "metric = metrics.MAE()\n",
    "\n",
    "for x, y in datasets.Restaurants():\n",
    "    \n",
    "    # Make a prediction without using the target\n",
    "    y_pred = model.predict_one(x)\n",
    "    \n",
    "    # Update the model using the target\n",
    "    model.learn_one(x, y)\n",
    "    \n",
    "    # Update the metric using the out-of-fold prediction\n",
    "    metric.update(y, y_pred)\n",
    "    \n",
    "print(metric)"
   ]
  },
  {
   "cell_type": "markdown",
   "metadata": {},
   "source": [
    "We use a `Pipeline` to arrange each step in a sequential order. A `TransformerUnion` is used to merge multiple feature extractors into a single transformer. The `for` loop is now much shorter and is thus easier to grok: we get the out-of-fold prediction, we fit the model, and finally we update the metric. This way of evaluating a model is typical of online learning, and so we put it wrapped it inside a function called `online_score` part of the `model_selection` module. We can use it to replace the `for` loop."
   ]
  },
  {
   "cell_type": "code",
   "execution_count": 5,
   "metadata": {},
   "outputs": [
    {
     "data": {
      "text/plain": [
       "MAE: 8.38533"
      ]
     },
     "execution_count": 5,
     "metadata": {},
     "output_type": "execute_result"
    }
   ],
   "source": [
    "from river import model_selection\n",
    "\n",
    "model = compose.Pipeline(\n",
    "    ('features', compose.TransformerUnion(\n",
    "        ('date_features', compose.FuncTransformer(get_date_features)),\n",
    "        ('last_7_mean', feature_extraction.TargetAgg(by='store_id', how=stats.RollingMean(7))),\n",
    "        ('last_14_mean', feature_extraction.TargetAgg(by='store_id', how=stats.RollingMean(14))),\n",
    "        ('last_21_mean', feature_extraction.TargetAgg(by='store_id', how=stats.RollingMean(21)))\n",
    "    )),\n",
    "    ('drop_non_features', compose.Discard('store_id', 'date', 'genre_name', 'area_name', 'latitude', 'longitude')),\n",
    "    ('scale', preprocessing.StandardScaler()),\n",
    "    ('lin_reg', linear_model.LinearRegression())\n",
    ")\n",
    "\n",
    "model_selection.progressive_val_score(X_y=datasets.Restaurants(), model=model, metric=metrics.MAE())"
   ]
  },
  {
   "cell_type": "markdown",
   "metadata": {},
   "source": [
    "Notice that you couldn't have used the `online_score` method if you wrote the model in a procedural manner.\n",
    "\n",
    "Our code is getting shorter, but it's still a bit difficult on the eyes. Indeed there is a lot of boilerplate code associated with pipelines that can get tedious to write. However `river` has some special tricks up it's sleeve to save you from a lot of pain.\n",
    "\n",
    "The first trick is that the name of each step in the pipeline can be omitted. If no name is given for a step then `river` automatically infers one."
   ]
  },
  {
   "cell_type": "code",
   "execution_count": 6,
   "metadata": {},
   "outputs": [
    {
     "data": {
      "text/plain": [
       "MAE: 8.38533"
      ]
     },
     "execution_count": 6,
     "metadata": {},
     "output_type": "execute_result"
    }
   ],
   "source": [
    "model = compose.Pipeline(\n",
    "    compose.TransformerUnion(\n",
    "        compose.FuncTransformer(get_date_features),\n",
    "        feature_extraction.TargetAgg(by='store_id', how=stats.RollingMean(7)),\n",
    "        feature_extraction.TargetAgg(by='store_id', how=stats.RollingMean(14)),\n",
    "        feature_extraction.TargetAgg(by='store_id', how=stats.RollingMean(21))\n",
    "    ),\n",
    "    compose.Discard('store_id', 'date', 'genre_name', 'area_name', 'latitude', 'longitude'),\n",
    "    preprocessing.StandardScaler(),\n",
    "    linear_model.LinearRegression()\n",
    ")\n",
    "\n",
    "model_selection.progressive_val_score(datasets.Restaurants(), model, metrics.MAE())"
   ]
  },
  {
   "cell_type": "markdown",
   "metadata": {},
   "source": [
    "Under the hood a `Pipeline` inherits from `collections.OrderedDict`. Indeed this makes sense because if you think about it a `Pipeline` is simply a sequence of steps where each step has a name. The reason we mention this is because it means you can manipulate a `Pipeline` the same way you would manipulate an ordinary `dict`. For instance we can print the name of each step by using the `keys` method."
   ]
  },
  {
   "cell_type": "code",
   "execution_count": 7,
   "metadata": {},
   "outputs": [
    {
     "name": "stdout",
     "output_type": "stream",
     "text": [
      "TransformerUnion\n",
      "Discard\n",
      "StandardScaler\n",
      "LinearRegression\n"
     ]
    }
   ],
   "source": [
    "for name in model.steps:\n",
    "    print(name)"
   ]
  },
  {
   "cell_type": "markdown",
   "metadata": {},
   "source": [
    "The first step is a `FeatureUnion` and it's string representation contains the string representation of each of it's elements. Not having to write names saves up some time and space and is certainly less tedious.\n",
    "\n",
    "The next trick is that we can use mathematical operators to compose our pipeline. For example we can use the `+` operator to merge `Transformer`s into a `TransformerUnion`. "
   ]
  },
  {
   "cell_type": "code",
   "execution_count": 8,
   "metadata": {},
   "outputs": [
    {
     "data": {
      "text/plain": [
       "MAE: 8.38533"
      ]
     },
     "execution_count": 8,
     "metadata": {},
     "output_type": "execute_result"
    }
   ],
   "source": [
    "model = compose.Pipeline(\n",
    "    compose.FuncTransformer(get_date_features) + \\\n",
    "    feature_extraction.TargetAgg(by='store_id', how=stats.RollingMean(7)) + \\\n",
    "    feature_extraction.TargetAgg(by='store_id', how=stats.RollingMean(14)) + \\\n",
    "    feature_extraction.TargetAgg(by='store_id', how=stats.RollingMean(21)),\n",
    "\n",
    "    compose.Discard('store_id', 'date', 'genre_name', 'area_name', 'latitude', 'longitude'),\n",
    "    preprocessing.StandardScaler(),\n",
    "    linear_model.LinearRegression()\n",
    ")\n",
    "\n",
    "model_selection.progressive_val_score(datasets.Restaurants(), model, metrics.MAE())"
   ]
  },
  {
   "cell_type": "markdown",
   "metadata": {},
   "source": [
    "Likewhise we can use the `|` operator to assemble steps into a `Pipeline`. "
   ]
  },
  {
   "cell_type": "code",
   "execution_count": 9,
   "metadata": {},
   "outputs": [
    {
     "data": {
      "text/plain": [
       "MAE: 8.38533"
      ]
     },
     "execution_count": 9,
     "metadata": {},
     "output_type": "execute_result"
    }
   ],
   "source": [
    "model = (\n",
    "    compose.FuncTransformer(get_date_features) +\n",
    "    feature_extraction.TargetAgg(by='store_id', how=stats.RollingMean(7)) +\n",
    "    feature_extraction.TargetAgg(by='store_id', how=stats.RollingMean(14)) +\n",
    "    feature_extraction.TargetAgg(by='store_id', how=stats.RollingMean(21))\n",
    ")\n",
    "\n",
    "to_discard = ['store_id', 'date', 'genre_name', 'area_name', 'latitude', 'longitude']\n",
    "\n",
    "model = model | compose.Discard(*to_discard) | preprocessing.StandardScaler()\n",
    "\n",
    "model |= linear_model.LinearRegression()\n",
    "\n",
    "model_selection.progressive_val_score(datasets.Restaurants(), model, metrics.MAE())"
   ]
  },
  {
   "cell_type": "markdown",
   "metadata": {},
   "source": [
    "Hopefully you'll agree that this is a powerful way to express machine learning pipelines. For some people this should be quite remeniscent of the UNIX pipe operator. One final trick we want to mention is that functions are automatically wrapped with a `FuncTransformer`, which can be quite handy."
   ]
  },
  {
   "cell_type": "code",
   "execution_count": 10,
   "metadata": {},
   "outputs": [
    {
     "data": {
      "text/plain": [
       "MAE: 8.38533"
      ]
     },
     "execution_count": 10,
     "metadata": {},
     "output_type": "execute_result"
    }
   ],
   "source": [
    "model = get_date_features\n",
    "\n",
    "for n in [7, 14, 21]:\n",
    "    model += feature_extraction.TargetAgg(by='store_id', how=stats.RollingMean(n))\n",
    "\n",
    "model |= compose.Discard(*to_discard)\n",
    "model |= preprocessing.StandardScaler()\n",
    "model |= linear_model.LinearRegression()\n",
    "\n",
    "model_selection.progressive_val_score(datasets.Restaurants(), model, metrics.MAE())"
   ]
  },
  {
   "cell_type": "markdown",
   "metadata": {},
   "source": [
    "Naturally some may prefer the procedural style we first used because they find it easier to work with. It all depends on your style and you should use what you feel comfortable with. However we encourage you to use operators because we believe that this will increase the readability of your code, which is very important. To each their own!\n",
    "\n",
    "Before finishing we can take a look at what our pipeline looks graphically."
   ]
  },
  {
   "cell_type": "code",
   "execution_count": 11,
   "metadata": {},
   "outputs": [
    {
     "data": {
      "image/svg+xml": [
       "<?xml version=\"1.0\" encoding=\"UTF-8\" standalone=\"no\"?>\n",
       "<!DOCTYPE svg PUBLIC \"-//W3C//DTD SVG 1.1//EN\"\n",
       " \"http://www.w3.org/Graphics/SVG/1.1/DTD/svg11.dtd\">\n",
       "<!-- Generated by graphviz version 2.42.3 (20191010.1750)\n",
       " -->\n",
       "<!-- Title: %3 Pages: 1 -->\n",
       "<svg width=\"1018pt\" height=\"404pt\"\n",
       " viewBox=\"0.00 0.00 1018.15 404.00\" xmlns=\"http://www.w3.org/2000/svg\" xmlns:xlink=\"http://www.w3.org/1999/xlink\">\n",
       "<g id=\"graph0\" class=\"graph\" transform=\"scale(1 1) rotate(0) translate(4 400)\">\n",
       "<title>%3</title>\n",
       "<polygon fill=\"white\" stroke=\"transparent\" points=\"-4,4 -4,-400 1014.15,-400 1014.15,4 -4,4\"/>\n",
       "<!-- x -->\n",
       "<g id=\"node1\" class=\"node\">\n",
       "<title>x</title>\n",
       "<ellipse fill=\"none\" stroke=\"black\" cx=\"438.47\" cy=\"-378\" rx=\"27\" ry=\"18\"/>\n",
       "<text text-anchor=\"middle\" x=\"438.47\" y=\"-373.8\" font-family=\"Times,serif\" font-size=\"14.00\">x</text>\n",
       "</g>\n",
       "<!-- get_date_features -->\n",
       "<g id=\"node2\" class=\"node\">\n",
       "<title>get_date_features</title>\n",
       "<ellipse fill=\"none\" stroke=\"black\" cx=\"72.47\" cy=\"-306\" rx=\"72.44\" ry=\"18\"/>\n",
       "<text text-anchor=\"middle\" x=\"72.47\" y=\"-301.8\" font-family=\"Times,serif\" font-size=\"14.00\">get_date_features</text>\n",
       "</g>\n",
       "<!-- x&#45;&gt;get_date_features -->\n",
       "<g id=\"edge1\" class=\"edge\">\n",
       "<title>x&#45;&gt;get_date_features</title>\n",
       "<path fill=\"none\" stroke=\"black\" d=\"M412.59,-372.35C362.63,-363.33 249.45,-342.71 154.47,-324 148.38,-322.8 142.05,-321.53 135.72,-320.24\"/>\n",
       "<polygon fill=\"black\" stroke=\"black\" points=\"136.31,-316.79 125.81,-318.22 134.91,-323.65 136.31,-316.79\"/>\n",
       "</g>\n",
       "<!-- target_rollingmean_7_by_store_id -->\n",
       "<g id=\"node3\" class=\"node\">\n",
       "<title>target_rollingmean_7_by_store_id</title>\n",
       "<ellipse fill=\"none\" stroke=\"black\" cx=\"295.47\" cy=\"-306\" rx=\"132.01\" ry=\"18\"/>\n",
       "<text text-anchor=\"middle\" x=\"295.47\" y=\"-301.8\" font-family=\"Times,serif\" font-size=\"14.00\">target_rollingmean_7_by_store_id</text>\n",
       "</g>\n",
       "<!-- x&#45;&gt;target_rollingmean_7_by_store_id -->\n",
       "<g id=\"edge2\" class=\"edge\">\n",
       "<title>x&#45;&gt;target_rollingmean_7_by_store_id</title>\n",
       "<path fill=\"none\" stroke=\"black\" d=\"M417.37,-366.67C396.68,-356.54 364.54,-340.81 338.45,-328.04\"/>\n",
       "<polygon fill=\"black\" stroke=\"black\" points=\"339.67,-324.74 329.15,-323.49 336.59,-331.03 339.67,-324.74\"/>\n",
       "</g>\n",
       "<!-- target_rollingmean_14_by_store_id -->\n",
       "<g id=\"node4\" class=\"node\">\n",
       "<title>target_rollingmean_14_by_store_id</title>\n",
       "<ellipse fill=\"none\" stroke=\"black\" cx=\"582.47\" cy=\"-306\" rx=\"136.86\" ry=\"18\"/>\n",
       "<text text-anchor=\"middle\" x=\"582.47\" y=\"-301.8\" font-family=\"Times,serif\" font-size=\"14.00\">target_rollingmean_14_by_store_id</text>\n",
       "</g>\n",
       "<!-- x&#45;&gt;target_rollingmean_14_by_store_id -->\n",
       "<g id=\"edge3\" class=\"edge\">\n",
       "<title>x&#45;&gt;target_rollingmean_14_by_store_id</title>\n",
       "<path fill=\"none\" stroke=\"black\" d=\"M459.72,-366.67C480.64,-356.5 513.2,-340.67 539.53,-327.87\"/>\n",
       "<polygon fill=\"black\" stroke=\"black\" points=\"541.09,-331 548.56,-323.49 538.03,-324.71 541.09,-331\"/>\n",
       "</g>\n",
       "<!-- target_rollingmean_21_by_store_id -->\n",
       "<g id=\"node5\" class=\"node\">\n",
       "<title>target_rollingmean_21_by_store_id</title>\n",
       "<ellipse fill=\"none\" stroke=\"black\" cx=\"873.47\" cy=\"-306\" rx=\"136.86\" ry=\"18\"/>\n",
       "<text text-anchor=\"middle\" x=\"873.47\" y=\"-301.8\" font-family=\"Times,serif\" font-size=\"14.00\">target_rollingmean_21_by_store_id</text>\n",
       "</g>\n",
       "<!-- x&#45;&gt;target_rollingmean_21_by_store_id -->\n",
       "<g id=\"edge4\" class=\"edge\">\n",
       "<title>x&#45;&gt;target_rollingmean_21_by_store_id</title>\n",
       "<path fill=\"none\" stroke=\"black\" d=\"M464.38,-372.83C525.27,-363.03 679.93,-338.14 780.68,-321.93\"/>\n",
       "<polygon fill=\"black\" stroke=\"black\" points=\"781.24,-325.39 790.56,-320.34 780.13,-318.47 781.24,-325.39\"/>\n",
       "</g>\n",
       "<!-- ~[&#39;area_name&#39;, &#39;date&#39;, &#39;genre_name&#39;, &#39;latitude&#39;, &#39;longitude&#39;, &#39;store_id&#39;] -->\n",
       "<g id=\"node6\" class=\"node\">\n",
       "<title>~[&#39;area_name&#39;, &#39;date&#39;, &#39;genre_name&#39;, &#39;latitude&#39;, &#39;longitude&#39;, &#39;store_id&#39;]</title>\n",
       "<ellipse fill=\"none\" stroke=\"black\" cx=\"438.47\" cy=\"-234\" rx=\"246.82\" ry=\"18\"/>\n",
       "<text text-anchor=\"middle\" x=\"438.47\" y=\"-229.8\" font-family=\"Times,serif\" font-size=\"14.00\">~[&#39;area_name&#39;, &#39;date&#39;, &#39;genre_name&#39;, &#39;latitude&#39;, &#39;longitude&#39;, &#39;store_id&#39;]</text>\n",
       "</g>\n",
       "<!-- get_date_features&#45;&gt;~[&#39;area_name&#39;, &#39;date&#39;, &#39;genre_name&#39;, &#39;latitude&#39;, &#39;longitude&#39;, &#39;store_id&#39;] -->\n",
       "<g id=\"edge5\" class=\"edge\">\n",
       "<title>get_date_features&#45;&gt;~[&#39;area_name&#39;, &#39;date&#39;, &#39;genre_name&#39;, &#39;latitude&#39;, &#39;longitude&#39;, &#39;store_id&#39;]</title>\n",
       "<path fill=\"none\" stroke=\"black\" d=\"M125.81,-293.78C135.35,-291.82 145.2,-289.83 154.47,-288 216.43,-275.8 286.15,-262.78 341,-252.69\"/>\n",
       "<polygon fill=\"black\" stroke=\"black\" points=\"341.86,-256.1 351.06,-250.85 340.59,-249.21 341.86,-256.1\"/>\n",
       "</g>\n",
       "<!-- target_rollingmean_7_by_store_id&#45;&gt;~[&#39;area_name&#39;, &#39;date&#39;, &#39;genre_name&#39;, &#39;latitude&#39;, &#39;longitude&#39;, &#39;store_id&#39;] -->\n",
       "<g id=\"edge6\" class=\"edge\">\n",
       "<title>target_rollingmean_7_by_store_id&#45;&gt;~[&#39;area_name&#39;, &#39;date&#39;, &#39;genre_name&#39;, &#39;latitude&#39;, &#39;longitude&#39;, &#39;store_id&#39;]</title>\n",
       "<path fill=\"none\" stroke=\"black\" d=\"M329.36,-288.41C348.93,-278.83 373.75,-266.68 394.77,-256.39\"/>\n",
       "<polygon fill=\"black\" stroke=\"black\" points=\"396.39,-259.5 403.83,-251.96 393.31,-253.21 396.39,-259.5\"/>\n",
       "</g>\n",
       "<!-- target_rollingmean_14_by_store_id&#45;&gt;~[&#39;area_name&#39;, &#39;date&#39;, &#39;genre_name&#39;, &#39;latitude&#39;, &#39;longitude&#39;, &#39;store_id&#39;] -->\n",
       "<g id=\"edge7\" class=\"edge\">\n",
       "<title>target_rollingmean_14_by_store_id&#45;&gt;~[&#39;area_name&#39;, &#39;date&#39;, &#39;genre_name&#39;, &#39;latitude&#39;, &#39;longitude&#39;, &#39;store_id&#39;]</title>\n",
       "<path fill=\"none\" stroke=\"black\" d=\"M548.34,-288.41C528.64,-278.83 503.64,-266.68 482.47,-256.39\"/>\n",
       "<polygon fill=\"black\" stroke=\"black\" points=\"483.87,-253.18 473.35,-251.96 480.81,-259.48 483.87,-253.18\"/>\n",
       "</g>\n",
       "<!-- target_rollingmean_21_by_store_id&#45;&gt;~[&#39;area_name&#39;, &#39;date&#39;, &#39;genre_name&#39;, &#39;latitude&#39;, &#39;longitude&#39;, &#39;store_id&#39;] -->\n",
       "<g id=\"edge8\" class=\"edge\">\n",
       "<title>target_rollingmean_21_by_store_id&#45;&gt;~[&#39;area_name&#39;, &#39;date&#39;, &#39;genre_name&#39;, &#39;latitude&#39;, &#39;longitude&#39;, &#39;store_id&#39;]</title>\n",
       "<path fill=\"none\" stroke=\"black\" d=\"M790.62,-291.67C721.03,-280.47 621.11,-264.39 545.47,-252.22\"/>\n",
       "<polygon fill=\"black\" stroke=\"black\" points=\"545.86,-248.74 535.43,-250.6 544.75,-255.65 545.86,-248.74\"/>\n",
       "</g>\n",
       "<!-- StandardScaler -->\n",
       "<g id=\"node7\" class=\"node\">\n",
       "<title>StandardScaler</title>\n",
       "<ellipse fill=\"none\" stroke=\"black\" cx=\"438.47\" cy=\"-162\" rx=\"63.78\" ry=\"18\"/>\n",
       "<text text-anchor=\"middle\" x=\"438.47\" y=\"-157.8\" font-family=\"Times,serif\" font-size=\"14.00\">StandardScaler</text>\n",
       "</g>\n",
       "<!-- ~[&#39;area_name&#39;, &#39;date&#39;, &#39;genre_name&#39;, &#39;latitude&#39;, &#39;longitude&#39;, &#39;store_id&#39;]&#45;&gt;StandardScaler -->\n",
       "<g id=\"edge10\" class=\"edge\">\n",
       "<title>~[&#39;area_name&#39;, &#39;date&#39;, &#39;genre_name&#39;, &#39;latitude&#39;, &#39;longitude&#39;, &#39;store_id&#39;]&#45;&gt;StandardScaler</title>\n",
       "<path fill=\"none\" stroke=\"black\" d=\"M438.47,-215.7C438.47,-207.98 438.47,-198.71 438.47,-190.11\"/>\n",
       "<polygon fill=\"black\" stroke=\"black\" points=\"441.97,-190.1 438.47,-180.1 434.97,-190.1 441.97,-190.1\"/>\n",
       "</g>\n",
       "<!-- LinearRegression -->\n",
       "<g id=\"node8\" class=\"node\">\n",
       "<title>LinearRegression</title>\n",
       "<ellipse fill=\"none\" stroke=\"black\" cx=\"438.47\" cy=\"-90\" rx=\"72.46\" ry=\"18\"/>\n",
       "<text text-anchor=\"middle\" x=\"438.47\" y=\"-85.8\" font-family=\"Times,serif\" font-size=\"14.00\">LinearRegression</text>\n",
       "</g>\n",
       "<!-- StandardScaler&#45;&gt;LinearRegression -->\n",
       "<g id=\"edge11\" class=\"edge\">\n",
       "<title>StandardScaler&#45;&gt;LinearRegression</title>\n",
       "<path fill=\"none\" stroke=\"black\" d=\"M438.47,-143.7C438.47,-135.98 438.47,-126.71 438.47,-118.11\"/>\n",
       "<polygon fill=\"black\" stroke=\"black\" points=\"441.97,-118.1 438.47,-108.1 434.97,-118.1 441.97,-118.1\"/>\n",
       "</g>\n",
       "<!-- y -->\n",
       "<g id=\"node9\" class=\"node\">\n",
       "<title>y</title>\n",
       "<ellipse fill=\"none\" stroke=\"black\" cx=\"438.47\" cy=\"-18\" rx=\"27\" ry=\"18\"/>\n",
       "<text text-anchor=\"middle\" x=\"438.47\" y=\"-13.8\" font-family=\"Times,serif\" font-size=\"14.00\">y</text>\n",
       "</g>\n",
       "<!-- LinearRegression&#45;&gt;y -->\n",
       "<g id=\"edge9\" class=\"edge\">\n",
       "<title>LinearRegression&#45;&gt;y</title>\n",
       "<path fill=\"none\" stroke=\"black\" d=\"M438.47,-71.7C438.47,-63.98 438.47,-54.71 438.47,-46.11\"/>\n",
       "<polygon fill=\"black\" stroke=\"black\" points=\"441.97,-46.1 438.47,-36.1 434.97,-46.1 441.97,-46.1\"/>\n",
       "</g>\n",
       "</g>\n",
       "</svg>\n"
      ],
      "text/plain": [
       "<graphviz.dot.Digraph at 0x1a2b86c510>"
      ]
     },
     "execution_count": 11,
     "metadata": {},
     "output_type": "execute_result"
    }
   ],
   "source": [
    "model.draw()"
   ]
  }
 ],
 "metadata": {
  "kernelspec": {
   "display_name": "Python 3",
   "language": "python",
   "name": "python3"
  },
  "language_info": {
   "codemirror_mode": {
    "name": "ipython",
    "version": 3
   },
   "file_extension": ".py",
   "mimetype": "text/x-python",
   "name": "python",
   "nbconvert_exporter": "python",
   "pygments_lexer": "ipython3",
   "version": "3.7.7"
  }
 },
 "nbformat": 4,
 "nbformat_minor": 4
}
