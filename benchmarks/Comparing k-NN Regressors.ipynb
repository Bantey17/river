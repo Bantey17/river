{
 "cells": [
  {
   "cell_type": "code",
   "execution_count": 1,
   "metadata": {},
   "outputs": [],
   "source": [
    "from creme import datasets\n",
    "from creme import metrics\n",
    "from creme import neighbors\n",
    "from creme import preprocessing\n",
    "\n",
    "import time"
   ]
  },
  {
   "cell_type": "code",
   "execution_count": 2,
   "metadata": {},
   "outputs": [],
   "source": [
    "def run_friedman(model, dataset, metric):\n",
    "    count = 0\n",
    "\n",
    "    for x, y in dataset:\n",
    "        if count >= 5:\n",
    "            metric.update(y, model.predict_one(x))\n",
    "        model.learn_one(x, y)\n",
    "\n",
    "        count += 1\n",
    "        if count == 5000:\n",
    "            break\n",
    "    return metric"
   ]
  },
  {
   "cell_type": "markdown",
   "metadata": {},
   "source": [
    "# Comparing k-NN Regressors\n",
    "\n",
    "## Circular Buffer + cKDTree\n",
    "\n",
    "### 1. Mean"
   ]
  },
  {
   "cell_type": "code",
   "execution_count": 3,
   "metadata": {},
   "outputs": [
    {
     "name": "stdout",
     "output_type": "stream",
     "text": [
      "MAE: 2.074526\n",
      "MAE: 2.074526\n",
      "MAE: 2.074526\n",
      "MAE: 2.074526\n",
      "MAE: 2.074526\n",
      "MAE: 2.074526\n",
      "MAE: 2.074526\n",
      "MAE: 2.074526\n",
      "2.22 s ± 14.5 ms per loop (mean ± std. dev. of 7 runs, 1 loop each)\n"
     ]
    }
   ],
   "source": [
    "%%timeit\n",
    "\n",
    "dataset = datasets.synth.Friedman(seed=1)\n",
    "metric = metrics.MAE()\n",
    "\n",
    "model = (\n",
    "    preprocessing.StandardScaler() | neighbors.KNNRegressor()\n",
    ")\n",
    "\n",
    "print(run_friedman(model, dataset, metric))"
   ]
  },
  {
   "cell_type": "markdown",
   "metadata": {},
   "source": [
    "### 2. Median"
   ]
  },
  {
   "cell_type": "code",
   "execution_count": 4,
   "metadata": {
    "scrolled": true
   },
   "outputs": [
    {
     "name": "stdout",
     "output_type": "stream",
     "text": [
      "MAE: 2.257552\n",
      "MAE: 2.257552\n",
      "MAE: 2.257552\n",
      "MAE: 2.257552\n",
      "MAE: 2.257552\n",
      "MAE: 2.257552\n",
      "MAE: 2.257552\n",
      "MAE: 2.257552\n",
      "2.63 s ± 221 ms per loop (mean ± std. dev. of 7 runs, 1 loop each)\n"
     ]
    }
   ],
   "source": [
    "%%timeit\n",
    "\n",
    "dataset = datasets.synth.Friedman(seed=1)\n",
    "metric = metrics.MAE()\n",
    "\n",
    "model = (\n",
    "    preprocessing.StandardScaler() | neighbors.KNNRegressor(aggregation_method='median')\n",
    ")\n",
    "\n",
    "print(run_friedman(model, dataset, metric))"
   ]
  },
  {
   "cell_type": "markdown",
   "metadata": {},
   "source": [
    "### 3. Weighted mean"
   ]
  },
  {
   "cell_type": "code",
   "execution_count": 5,
   "metadata": {
    "scrolled": true
   },
   "outputs": [
    {
     "name": "stdout",
     "output_type": "stream",
     "text": [
      "MAE: 2.050872\n",
      "MAE: 2.050872\n",
      "MAE: 2.050872\n",
      "MAE: 2.050872\n",
      "MAE: 2.050872\n",
      "MAE: 2.050872\n",
      "MAE: 2.050872\n",
      "MAE: 2.050872\n",
      "2.3 s ± 60.8 ms per loop (mean ± std. dev. of 7 runs, 1 loop each)\n"
     ]
    }
   ],
   "source": [
    "%%timeit\n",
    "\n",
    "dataset = datasets.synth.Friedman(seed=1)\n",
    "metric = metrics.MAE()\n",
    "0.399144\n",
    "model = (\n",
    "    preprocessing.StandardScaler() | neighbors.KNNRegressor(aggregation_method='weighted_mean')\n",
    ")\n",
    "\n",
    "print(run_friedman(model, dataset, metric))"
   ]
  },
  {
   "cell_type": "markdown",
   "metadata": {},
   "source": [
    "### Creme vanilla mean"
   ]
  },
  {
   "cell_type": "code",
   "execution_count": 6,
   "metadata": {},
   "outputs": [
    {
     "name": "stdout",
     "output_type": "stream",
     "text": [
      "MAE: 2.079942\n",
      "MAE: 2.079942\n",
      "MAE: 2.079942\n",
      "MAE: 2.079942\n",
      "MAE: 2.079942\n",
      "MAE: 2.079942\n",
      "MAE: 2.079942\n",
      "MAE: 2.079942\n",
      "19.9 s ± 596 ms per loop (mean ± std. dev. of 7 runs, 1 loop each)\n"
     ]
    }
   ],
   "source": [
    "%%timeit\n",
    "\n",
    "dataset = datasets.synth.Friedman(seed=1)\n",
    "metric = metrics.MAE()\n",
    "\n",
    "model = (\n",
    "    preprocessing.StandardScaler() | neighbors.KNeighborsRegressor(window_size=1000, weighted=False)\n",
    ")\n",
    "\n",
    "print(run_friedman(model, dataset, metric))"
   ]
  },
  {
   "cell_type": "markdown",
   "metadata": {},
   "source": [
    "### Creme weighted mean"
   ]
  },
  {
   "cell_type": "code",
   "execution_count": 7,
   "metadata": {},
   "outputs": [
    {
     "name": "stdout",
     "output_type": "stream",
     "text": [
      "MAE: 2.039271\n",
      "MAE: 2.039271\n",
      "MAE: 2.039271\n",
      "MAE: 2.039271\n",
      "MAE: 2.039271\n",
      "MAE: 2.039271\n",
      "MAE: 2.039271\n",
      "MAE: 2.039271\n",
      "18.7 s ± 147 ms per loop (mean ± std. dev. of 7 runs, 1 loop each)\n"
     ]
    }
   ],
   "source": [
    "%%timeit\n",
    "\n",
    "dataset = datasets.synth.Friedman(seed=1)\n",
    "metric = metrics.MAE()\n",
    "\n",
    "model = (\n",
    "    preprocessing.StandardScaler() | neighbors.KNeighborsRegressor(window_size=1000)\n",
    ")\n",
    "\n",
    "print(run_friedman(model, dataset, metric))"
   ]
  }
 ],
 "metadata": {
  "kernelspec": {
   "display_name": "Python 3",
   "language": "python",
   "name": "python3"
  },
  "language_info": {
   "codemirror_mode": {
    "name": "ipython",
    "version": 3
   },
   "file_extension": ".py",
   "mimetype": "text/x-python",
   "name": "python",
   "nbconvert_exporter": "python",
   "pygments_lexer": "ipython3",
   "version": "3.8.2"
  }
 },
 "nbformat": 4,
 "nbformat_minor": 4
}
