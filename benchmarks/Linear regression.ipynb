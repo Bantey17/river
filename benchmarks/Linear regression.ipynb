{
 "cells": [
  {
   "cell_type": "markdown",
   "metadata": {},
   "source": [
    "# Linear regression"
   ]
  },
  {
   "cell_type": "markdown",
   "metadata": {},
   "source": [
    "This notebook compares various linear regression implementations. The dataset used is the [Toulouse bike sharing dataset](https://online-ml.github.io/generated/river.datasets.fetch_bikes.html#river.datasets.fetch_bikes)."
   ]
  },
  {
   "cell_type": "code",
   "execution_count": 1,
   "metadata": {},
   "outputs": [
    {
     "name": "stdout",
     "output_type": "stream",
     "text": [
      "Tue Nov 24 2020 \n",
      "\n",
      "CPython 3.8.5\n",
      "IPython 7.19.0\n",
      "\n",
      "river 0.1.0\n",
      "sklearn 0.23.2\n",
      "torch 1.7.0\n",
      "vowpalwabbit unknown\n",
      "\n",
      "compiler   : Clang 10.0.0 \n",
      "system     : Darwin\n",
      "release    : 20.1.0\n",
      "machine    : x86_64\n",
      "processor  : i386\n",
      "CPU cores  : 8\n",
      "interpreter: 64bit\n"
     ]
    }
   ],
   "source": [
    "%load_ext watermark\n",
    "%watermark --python --machine --packages river,sklearn,torch,vowpalwabbit --datename"
   ]
  },
  {
   "cell_type": "markdown",
   "metadata": {},
   "source": [
    "Common parameters."
   ]
  },
  {
   "cell_type": "code",
   "execution_count": 2,
   "metadata": {},
   "outputs": [],
   "source": [
    "N_FEATURES = 6\n",
    "LEARNING_RATE = 0.005"
   ]
  },
  {
   "cell_type": "markdown",
   "metadata": {},
   "source": [
    "River model."
   ]
  },
  {
   "cell_type": "code",
   "execution_count": 3,
   "metadata": {},
   "outputs": [],
   "source": [
    "from river import linear_model\n",
    "from river import optim\n",
    "\n",
    "river_model = linear_model.LinearRegression(\n",
    "    optimizer=optim.SGD(LEARNING_RATE),\n",
    "    l2=0.,\n",
    "    intercept_lr=LEARNING_RATE\n",
    ")"
   ]
  },
  {
   "cell_type": "markdown",
   "metadata": {},
   "source": [
    "scikit-learn model."
   ]
  },
  {
   "cell_type": "code",
   "execution_count": 4,
   "metadata": {},
   "outputs": [],
   "source": [
    "from river import compat\n",
    "from sklearn import linear_model\n",
    "\n",
    "sklearn_model = compat.SKL2RiverRegressor(\n",
    "    linear_model.SGDRegressor(\n",
    "        learning_rate='constant',\n",
    "        eta0=LEARNING_RATE,\n",
    "        penalty='none'\n",
    "    )\n",
    ")"
   ]
  },
  {
   "cell_type": "markdown",
   "metadata": {},
   "source": [
    "PyTorch model."
   ]
  },
  {
   "cell_type": "code",
   "execution_count": 5,
   "metadata": {},
   "outputs": [],
   "source": [
    "import torch\n",
    "\n",
    "class PyTorchNet(torch.nn.Module):\n",
    "    \n",
    "    def __init__(self, n_features):\n",
    "        super().__init__()\n",
    "        self.linear = torch.nn.Linear(N_FEATURES, 1)\n",
    "        torch.nn.init.constant_(self.linear.weight, 0)\n",
    "        torch.nn.init.constant_(self.linear.bias, 0)\n",
    "        \n",
    "    def forward(self, x):\n",
    "        return self.linear(x)\n",
    "    \n",
    "torch_model = PyTorchNet(n_features=N_FEATURES)\n",
    "torch_model = compat.PyTorch2RiverRegressor(\n",
    "    net=torch_model,\n",
    "    loss_fn=torch.nn.MSELoss(),\n",
    "    optimizer=torch.optim.SGD(torch_model.parameters(), lr=LEARNING_RATE)\n",
    ")"
   ]
  },
  {
   "cell_type": "code",
   "execution_count": 6,
   "metadata": {},
   "outputs": [
    {
     "name": "stderr",
     "output_type": "stream",
     "text": [
      "100%|██████████| 182470/182470 [00:19<00:00, 9416.84it/s] \n",
      "100%|██████████| 182470/182470 [01:08<00:00, 2644.58it/s]\n",
      "100%|██████████| 182470/182470 [01:20<00:00, 2264.03it/s]\n",
      "100%|██████████| 3/3 [02:48<00:00, 56.33s/it]\n"
     ]
    }
   ],
   "source": [
    "from river import compose\n",
    "from river import datasets\n",
    "from river import feature_extraction\n",
    "from river import metrics\n",
    "from river import preprocessing\n",
    "from river import stats\n",
    "\n",
    "%run utils.py\n",
    "\n",
    "def add_hour(x):\n",
    "    x['hour'] = x['moment'].hour\n",
    "    return x\n",
    "\n",
    "results = benchmark(\n",
    "    get_X_y=datasets.Bikes,\n",
    "    n=182_470,\n",
    "    get_pp=lambda: (\n",
    "        compose.Select('clouds', 'humidity', 'pressure', 'temperature', 'wind') +\n",
    "        (\n",
    "            add_hour |\n",
    "            feature_extraction.TargetAgg(by=['station', 'hour'], how=stats.Mean())\n",
    "        ) |\n",
    "        preprocessing.StandardScaler()\n",
    "    ),\n",
    "    models=[\n",
    "        ('river', 'LinearRegression', river_model),\n",
    "        ('scikit-learn', 'SGDRegressor', sklearn_model),\n",
    "        ('PyTorch (CPU)', 'Linear', torch_model),\n",
    "    ],\n",
    "    get_metric=metrics.MSE\n",
    ")"
   ]
  },
  {
   "cell_type": "code",
   "execution_count": 7,
   "metadata": {},
   "outputs": [
    {
     "data": {
      "text/html": [
       "<div>\n",
       "<style scoped>\n",
       "    .dataframe tbody tr th:only-of-type {\n",
       "        vertical-align: middle;\n",
       "    }\n",
       "\n",
       "    .dataframe tbody tr th {\n",
       "        vertical-align: top;\n",
       "    }\n",
       "\n",
       "    .dataframe thead th {\n",
       "        text-align: right;\n",
       "    }\n",
       "</style>\n",
       "<table border=\"1\" class=\"dataframe\">\n",
       "  <thead>\n",
       "    <tr style=\"text-align: right;\">\n",
       "      <th></th>\n",
       "      <th>Library</th>\n",
       "      <th>Model</th>\n",
       "      <th>MSE</th>\n",
       "      <th>Fit time</th>\n",
       "      <th>Average fit time</th>\n",
       "      <th>Predict time</th>\n",
       "      <th>Average predict time</th>\n",
       "    </tr>\n",
       "  </thead>\n",
       "  <tbody>\n",
       "    <tr>\n",
       "      <th>0</th>\n",
       "      <td>river</td>\n",
       "      <td>LinearRegression</td>\n",
       "      <td>23.037118</td>\n",
       "      <td>3s, 588ms, 133μs, 755ns</td>\n",
       "      <td>19μs, 664ns</td>\n",
       "      <td>465ms, 173μs, 863ns</td>\n",
       "      <td>2μs, 549ns</td>\n",
       "    </tr>\n",
       "    <tr>\n",
       "      <th>1</th>\n",
       "      <td>scikit-learn</td>\n",
       "      <td>SGDRegressor</td>\n",
       "      <td>25.296774</td>\n",
       "      <td>33s, 614ms, 256μs, 445ns</td>\n",
       "      <td>184μs, 218ns</td>\n",
       "      <td>14s, 985ms, 462μs, 445ns</td>\n",
       "      <td>82μs, 126ns</td>\n",
       "    </tr>\n",
       "    <tr>\n",
       "      <th>2</th>\n",
       "      <td>PyTorch (CPU)</td>\n",
       "      <td>Linear</td>\n",
       "      <td>23.037118</td>\n",
       "      <td>45s, 505ms, 615μs, 146ns</td>\n",
       "      <td>249μs, 387ns</td>\n",
       "      <td>13s, 422ms, 835μs, 437ns</td>\n",
       "      <td>73μs, 562ns</td>\n",
       "    </tr>\n",
       "  </tbody>\n",
       "</table>\n",
       "</div>"
      ],
      "text/plain": [
       "         Library             Model        MSE                  Fit time  \\\n",
       "0          river  LinearRegression  23.037118   3s, 588ms, 133μs, 755ns   \n",
       "1   scikit-learn      SGDRegressor  25.296774  33s, 614ms, 256μs, 445ns   \n",
       "2  PyTorch (CPU)            Linear  23.037118  45s, 505ms, 615μs, 146ns   \n",
       "\n",
       "  Average fit time              Predict time Average predict time  \n",
       "0      19μs, 664ns       465ms, 173μs, 863ns           2μs, 549ns  \n",
       "1     184μs, 218ns  14s, 985ms, 462μs, 445ns          82μs, 126ns  \n",
       "2     249μs, 387ns  13s, 422ms, 835μs, 437ns          73μs, 562ns  "
      ]
     },
     "execution_count": 7,
     "metadata": {},
     "output_type": "execute_result"
    }
   ],
   "source": [
    "results"
   ]
  }
 ],
 "metadata": {
  "kernelspec": {
   "display_name": "Python 3",
   "language": "python",
   "name": "python3"
  },
  "language_info": {
   "codemirror_mode": {
    "name": "ipython",
    "version": 3
   },
   "file_extension": ".py",
   "mimetype": "text/x-python",
   "name": "python",
   "nbconvert_exporter": "python",
   "pygments_lexer": "ipython3",
   "version": "3.8.5"
  }
 },
 "nbformat": 4,
 "nbformat_minor": 4
}
