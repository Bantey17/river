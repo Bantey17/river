{
 "cells": [
  {
   "cell_type": "markdown",
   "metadata": {},
   "source": [
    "# Binary classification benchmark"
   ]
  },
  {
   "cell_type": "markdown",
   "metadata": {},
   "source": [
    "This notebook compares binary classification models from various libraries. The dataset used is the [Higgs dataset](https://archive.ics.uci.edu/ml/datasets/HIGGS)."
   ]
  },
  {
   "cell_type": "code",
   "execution_count": 1,
   "metadata": {},
   "outputs": [
    {
     "name": "stderr",
     "output_type": "stream",
     "text": [
      "Using TensorFlow backend.\n",
      "/home/max/anaconda3/lib/python3.7/site-packages/sklearn/utils/deprecation.py:144: FutureWarning: The sklearn.ensemble.forest module is  deprecated in version 0.22 and will be removed in version 0.24. The corresponding classes / functions should instead be imported from sklearn.ensemble. Anything that cannot be imported from sklearn.ensemble is now part of the private API.\n",
      "  warnings.warn(message, FutureWarning)\n",
      "/home/max/anaconda3/lib/python3.7/site-packages/sklearn/externals/joblib/__init__.py:15: FutureWarning: sklearn.externals.joblib is deprecated in 0.21 and will be removed in 0.23. Please import this functionality directly from joblib, which can be installed with: pip install joblib. If this warning is raised when loading pickled models, you may need to re-serialize those models with scikit-learn 0.21+.\n",
      "  warnings.warn(msg, category=FutureWarning)\n",
      "/home/max/anaconda3/lib/python3.7/site-packages/sklearn/externals/six.py:31: FutureWarning: The module is deprecated in version 0.21 and will be removed in version 0.23 since we've dropped support for Python 2.7. Please rely on the official version of six (https://pypi.org/project/six/).\n",
      "  \"(https://pypi.org/project/six/).\", FutureWarning)\n",
      "/home/max/anaconda3/lib/python3.7/site-packages/sklearn/utils/deprecation.py:144: FutureWarning: The sklearn.tree.tree module is  deprecated in version 0.22 and will be removed in version 0.24. The corresponding classes / functions should instead be imported from sklearn.tree. Anything that cannot be imported from sklearn.tree is now part of the private API.\n",
      "  warnings.warn(message, FutureWarning)\n"
     ]
    },
    {
     "name": "stdout",
     "output_type": "stream",
     "text": [
      "Fri Jan 03 2020 \n",
      "\n",
      "CPython 3.7.4\n",
      "IPython 7.4.0\n",
      "\n",
      "river 0.4.4\n",
      "keras 2.2.4\n",
      "skgarden 0.1.2\n",
      "sklearn 0.22\n",
      "tensorflow 2.0.0\n",
      "torch 1.3.1\n",
      "\n",
      "compiler   : GCC 7.3.0\n",
      "system     : Linux\n",
      "release    : 5.2.10-arch1-1-ARCH\n",
      "machine    : x86_64\n",
      "processor  : \n",
      "CPU cores  : 8\n",
      "interpreter: 64bit\n"
     ]
    }
   ],
   "source": [
    "%load_ext watermark\n",
    "%watermark --python --machine --packages river,keras,skgarden,sklearn,tensorflow,torch --datename"
   ]
  },
  {
   "cell_type": "code",
   "execution_count": 6,
   "metadata": {},
   "outputs": [],
   "source": [
    "from river import *\n",
    "from keras import layers\n",
    "from keras import models\n",
    "from keras import optimizers\n",
    "import numpy as np\n",
    "import skgarden\n",
    "from sklearn import linear_model as sk_linear_model\n",
    "from skmultiflow import trees\n",
    "import torch\n",
    "\n",
    "%run utils.py\n",
    "%run wrappers.py"
   ]
  },
  {
   "cell_type": "code",
   "execution_count": null,
   "metadata": {},
   "outputs": [
    {
     "data": {
      "application/vnd.jupyter.widget-view+json": {
       "model_id": "ced04c12596a4cd8b120353571de9fb8",
       "version_major": 2,
       "version_minor": 0
      },
      "text/plain": [
       "HBox(children=(IntProgress(value=0, max=11), HTML(value='')))"
      ]
     },
     "metadata": {},
     "output_type": "display_data"
    },
    {
     "data": {
      "application/vnd.jupyter.widget-view+json": {
       "model_id": "60acfaab0fad448bb5e46a88d8a6861d",
       "version_major": 2,
       "version_minor": 0
      },
      "text/plain": [
       "HBox(children=(IntProgress(value=0, max=100000), HTML(value='')))"
      ]
     },
     "metadata": {},
     "output_type": "display_data"
    },
    {
     "name": "stdout",
     "output_type": "stream",
     "text": [
      "\n"
     ]
    },
    {
     "data": {
      "application/vnd.jupyter.widget-view+json": {
       "model_id": "61d5b9696a7a47ccbb2a3dc79003572d",
       "version_major": 2,
       "version_minor": 0
      },
      "text/plain": [
       "HBox(children=(IntProgress(value=0, max=100000), HTML(value='')))"
      ]
     },
     "metadata": {},
     "output_type": "display_data"
    },
    {
     "name": "stdout",
     "output_type": "stream",
     "text": [
      "\n"
     ]
    },
    {
     "data": {
      "application/vnd.jupyter.widget-view+json": {
       "model_id": "59b7350e0cee4454a1e8c587a624013b",
       "version_major": 2,
       "version_minor": 0
      },
      "text/plain": [
       "HBox(children=(IntProgress(value=0, max=100000), HTML(value='')))"
      ]
     },
     "metadata": {},
     "output_type": "display_data"
    },
    {
     "name": "stdout",
     "output_type": "stream",
     "text": [
      "\n"
     ]
    },
    {
     "data": {
      "application/vnd.jupyter.widget-view+json": {
       "model_id": "93d0804f45114f89adf7721b06b130cf",
       "version_major": 2,
       "version_minor": 0
      },
      "text/plain": [
       "HBox(children=(IntProgress(value=0, max=100000), HTML(value='')))"
      ]
     },
     "metadata": {},
     "output_type": "display_data"
    },
    {
     "name": "stdout",
     "output_type": "stream",
     "text": [
      "\n"
     ]
    },
    {
     "data": {
      "application/vnd.jupyter.widget-view+json": {
       "model_id": "b92db8b4829246898117d4e0fdc5fe92",
       "version_major": 2,
       "version_minor": 0
      },
      "text/plain": [
       "HBox(children=(IntProgress(value=0, max=100000), HTML(value='')))"
      ]
     },
     "metadata": {},
     "output_type": "display_data"
    },
    {
     "name": "stdout",
     "output_type": "stream",
     "text": [
      "\n"
     ]
    },
    {
     "data": {
      "application/vnd.jupyter.widget-view+json": {
       "model_id": "03f222d5b920418eb31db9d90de8fddf",
       "version_major": 2,
       "version_minor": 0
      },
      "text/plain": [
       "HBox(children=(IntProgress(value=0, max=100000), HTML(value='')))"
      ]
     },
     "metadata": {},
     "output_type": "display_data"
    },
    {
     "name": "stdout",
     "output_type": "stream",
     "text": [
      "\n"
     ]
    },
    {
     "data": {
      "application/vnd.jupyter.widget-view+json": {
       "model_id": "e4399387cbc34bb09f87369c504fe907",
       "version_major": 2,
       "version_minor": 0
      },
      "text/plain": [
       "HBox(children=(IntProgress(value=0, max=100000), HTML(value='')))"
      ]
     },
     "metadata": {},
     "output_type": "display_data"
    }
   ],
   "source": [
    "n_features = 28\n",
    "\n",
    "class PyTorchNet(torch.nn.Module):\n",
    "    \n",
    "    def __init__(self, n_features):\n",
    "        super().__init__()\n",
    "        self.linear = torch.nn.Linear(n_features, 1)\n",
    "        self.sigmoid = torch.nn.Sigmoid()\n",
    "        torch.nn.init.constant_(self.linear.weight, 0)\n",
    "        torch.nn.init.constant_(self.linear.bias, 0)\n",
    "        \n",
    "    def forward(self, x):\n",
    "        return self.sigmoid(self.linear(x))\n",
    "    \n",
    "torch_model = PyTorchNet(n_features=n_features)\n",
    "\n",
    "# Keras\n",
    "#inputs = layers.Input(shape=(n_features,))\n",
    "#predictions = layers.Dense(1, activation='sigmoid', kernel_initializer='zeros', bias_initializer='zeros')(inputs)\n",
    "#keras_model = models.Model(inputs=inputs, outputs=predictions)\n",
    "#keras_model.compile(optimizer=optimizers.SGD(), loss='binary_crossentropy')\n",
    "\n",
    "names = [\n",
    "    'is_signal',\n",
    "    'lepton pT', 'lepton eta','lepton phi',\n",
    "    'missing energy magnitude', 'missing energy phi', 'jet 1 pt',\n",
    "    'jet 1 eta', 'jet 1 phi', 'jet 1 b-tag',\n",
    "    'jet 2 pt', 'jet 2 eta', 'jet 2 phi',\n",
    "    'jet 2 b-tag', 'jet 3 pt', 'jet 3 eta',\n",
    "    'jet 3 phi', 'jet 3 b-tag', 'jet 4 pt',\n",
    "    'jet 4 eta', 'jet 4 phi', 'jet 4 b-tag',\n",
    "    'm_jj', 'm_jjj', 'm_lv', 'm_jlv',\n",
    "    'm_bb', 'm_wbb', 'm_wwbb'\n",
    "]\n",
    "converters = {name: float for name in names}\n",
    "converters['is_signal'] = lambda x: bool(float(x))\n",
    "\n",
    "\n",
    "import itertools\n",
    "\n",
    "n = 100_000 # 11_000_000\n",
    "\n",
    "get_X_y = lambda: itertools.islice(stream.iter_csv('../HIGGS.csv.gz', fieldnames=names, target_name='is_signal', converters=converters), n)\n",
    "\n",
    "results = benchmark(\n",
    "    get_X_y=get_X_y,\n",
    "    n=n,\n",
    "    get_pp=preprocessing.StandardScaler,\n",
    "    models=[\n",
    "        ('river', 'LogisticRegression', linear_model.LogisticRegression()),\n",
    "        ('river', 'PAClassifier', linear_model.PAClassifier()),\n",
    "        ('river', 'KNeighborsClassifier', neighbors.KNeighborsClassifier()),\n",
    "        ('river', 'DecisionTreeClassifier', tree.DecisionTreeClassifier()),\n",
    "        ('river', 'RandomForestClassifier', tree.RandomForestClassifier()),\n",
    "#        ('Keras on Tensorflow (CPU)', 'Dense', KerasBinaryClassifier(keras_model)),\n",
    "        ('PyTorch (CPU)', 'Linear', PyTorchBinaryClassifier(\n",
    "            network=torch_model,\n",
    "            loss_fn=torch.nn.BCELoss(),\n",
    "            optimizer=torch.optim.SGD(torch_model.parameters(), lr=0.01)\n",
    "        )),\n",
    "        ('scikit-learn', 'SGDClassifier', ScikitLearnClassifier(\n",
    "            sk_linear_model.SGDClassifier(loss='log'),\n",
    "            classes=[False, True]\n",
    "        )),\n",
    "        ('scikit-learn', 'PassiveAggressiveClassifier', ScikitLearnClassifier(\n",
    "            sk_linear_model.PassiveAggressiveClassifier(),\n",
    "            classes=[False, True]\n",
    "        )),\n",
    "        ('scikit-garden', 'MondrianTreeClassifier', ScikitLearnClassifier(\n",
    "            skgarden.MondrianTreeClassifier(random_state=42),\n",
    "            classes=np.array([False, True])\n",
    "        )),\n",
    "        ('scikit-garden', 'MondrianForestClassifier', ScikitLearnClassifier(\n",
    "            skgarden.MondrianForestClassifier(random_state=42),\n",
    "            classes=np.array([False, True])\n",
    "        )),\n",
    "        ('scikit-multiflow', 'HoeffdingTree', ScikitLearnClassifier(\n",
    "            trees.HoeffdingTree(leaf_prediction='mc'),\n",
    "            classes=[False, True]\n",
    "        )),\n",
    "    ],\n",
    "    get_metric=metrics.Accuracy\n",
    ")"
   ]
  },
  {
   "cell_type": "code",
   "execution_count": null,
   "metadata": {},
   "outputs": [],
   "source": [
    "results"
   ]
  },
  {
   "cell_type": "code",
   "execution_count": 8,
   "metadata": {},
   "outputs": [
    {
     "data": {
      "text/html": [
       "<div>\n",
       "<style scoped>\n",
       "    .dataframe tbody tr th:only-of-type {\n",
       "        vertical-align: middle;\n",
       "    }\n",
       "\n",
       "    .dataframe tbody tr th {\n",
       "        vertical-align: top;\n",
       "    }\n",
       "\n",
       "    .dataframe thead th {\n",
       "        text-align: right;\n",
       "    }\n",
       "</style>\n",
       "<table border=\"1\" class=\"dataframe\">\n",
       "  <thead>\n",
       "    <tr style=\"text-align: right;\">\n",
       "      <th></th>\n",
       "      <th>Library</th>\n",
       "      <th>Model</th>\n",
       "      <th>Accuracy</th>\n",
       "      <th>Fit time</th>\n",
       "      <th>Average fit time</th>\n",
       "      <th>Predict time</th>\n",
       "      <th>Average predict time</th>\n",
       "    </tr>\n",
       "  </thead>\n",
       "  <tbody>\n",
       "    <tr>\n",
       "      <th>0</th>\n",
       "      <td>river</td>\n",
       "      <td>LogisticRegression</td>\n",
       "      <td>0.61810</td>\n",
       "      <td>2s, 653ms, 445μs, 18ns</td>\n",
       "      <td>26μs, 534ns</td>\n",
       "      <td>1s, 146ms, 206μs, 360ns</td>\n",
       "      <td>11μs, 462ns</td>\n",
       "    </tr>\n",
       "    <tr>\n",
       "      <th>1</th>\n",
       "      <td>river</td>\n",
       "      <td>PAClassifier</td>\n",
       "      <td>0.55009</td>\n",
       "      <td>3s, 850ms, 575μs, 326ns</td>\n",
       "      <td>38μs, 506ns</td>\n",
       "      <td>2s, 364ms, 993μs, 939ns</td>\n",
       "      <td>23μs, 650ns</td>\n",
       "    </tr>\n",
       "    <tr>\n",
       "      <th>2</th>\n",
       "      <td>river</td>\n",
       "      <td>KNeighborsClassifier</td>\n",
       "      <td>0.53050</td>\n",
       "      <td>285ms, 405μs, 586ns</td>\n",
       "      <td>2μs, 854ns</td>\n",
       "      <td>1m, 51s, 872ms, 59μs, 362ns</td>\n",
       "      <td>1ms, 118μs, 721ns</td>\n",
       "    </tr>\n",
       "    <tr>\n",
       "      <th>3</th>\n",
       "      <td>river</td>\n",
       "      <td>DecisionTreeClassifier</td>\n",
       "      <td>0.64663</td>\n",
       "      <td>38s, 330ms, 11μs, 367ns</td>\n",
       "      <td>383μs, 300ns</td>\n",
       "      <td>1s, 601ms, 316μs, 845ns</td>\n",
       "      <td>16μs, 13ns</td>\n",
       "    </tr>\n",
       "    <tr>\n",
       "      <th>4</th>\n",
       "      <td>river</td>\n",
       "      <td>RandomForestClassifier</td>\n",
       "      <td>0.65648</td>\n",
       "      <td>6m, 30s, 695ms, 473μs, 639ns</td>\n",
       "      <td>3ms, 906μs, 955ns</td>\n",
       "      <td>20s, 755ms, 7μs, 824ns</td>\n",
       "      <td>207μs, 550ns</td>\n",
       "    </tr>\n",
       "    <tr>\n",
       "      <th>5</th>\n",
       "      <td>Keras on Tensorflow (CPU)</td>\n",
       "      <td>Dense</td>\n",
       "      <td>0.61840</td>\n",
       "      <td>44s, 266ms, 650μs, 369ns</td>\n",
       "      <td>442μs, 667ns</td>\n",
       "      <td>47s, 689ms, 863μs, 668ns</td>\n",
       "      <td>476μs, 899ns</td>\n",
       "    </tr>\n",
       "    <tr>\n",
       "      <th>6</th>\n",
       "      <td>PyTorch (CPU)</td>\n",
       "      <td>Linear</td>\n",
       "      <td>0.61840</td>\n",
       "      <td>21s, 188ms, 666μs, 303ns</td>\n",
       "      <td>211μs, 887ns</td>\n",
       "      <td>12s, 717ms, 581μs, 991ns</td>\n",
       "      <td>127μs, 176ns</td>\n",
       "    </tr>\n",
       "    <tr>\n",
       "      <th>7</th>\n",
       "      <td>scikit-learn</td>\n",
       "      <td>SGDClassifier</td>\n",
       "      <td>0.56161</td>\n",
       "      <td>26s, 520ms, 629μs, 619ns</td>\n",
       "      <td>265μs, 206ns</td>\n",
       "      <td>7s, 285ms, 170μs, 482ns</td>\n",
       "      <td>72μs, 852ns</td>\n",
       "    </tr>\n",
       "    <tr>\n",
       "      <th>8</th>\n",
       "      <td>scikit-learn</td>\n",
       "      <td>PassiveAggressiveClassifier</td>\n",
       "      <td>0.55009</td>\n",
       "      <td>29s, 77ms, 978μs, 654ns</td>\n",
       "      <td>290μs, 780ns</td>\n",
       "      <td>8s, 305ms, 4μs, 333ns</td>\n",
       "      <td>83μs, 50ns</td>\n",
       "    </tr>\n",
       "    <tr>\n",
       "      <th>9</th>\n",
       "      <td>scikit-garden</td>\n",
       "      <td>MondrianTreeClassifier</td>\n",
       "      <td>0.53875</td>\n",
       "      <td>1m, 3s, 318ms, 947μs, 905ns</td>\n",
       "      <td>633μs, 189ns</td>\n",
       "      <td>15s, 137ms, 836μs, 527ns</td>\n",
       "      <td>151μs, 378ns</td>\n",
       "    </tr>\n",
       "    <tr>\n",
       "      <th>10</th>\n",
       "      <td>scikit-garden</td>\n",
       "      <td>MondrianForestClassifier</td>\n",
       "      <td>0.60061</td>\n",
       "      <td>11m, 9s, 621ms, 450μs, 305ns</td>\n",
       "      <td>6ms, 696μs, 215ns</td>\n",
       "      <td>1m, 22s, 43ms, 572μs, 456ns</td>\n",
       "      <td>820μs, 436ns</td>\n",
       "    </tr>\n",
       "  </tbody>\n",
       "</table>\n",
       "</div>"
      ],
      "text/plain": [
       "                      Library                        Model  Accuracy  \\\n",
       "0                       river           LogisticRegression   0.61810   \n",
       "1                       river                 PAClassifier   0.55009   \n",
       "2                       river         KNeighborsClassifier   0.53050   \n",
       "3                       river       DecisionTreeClassifier   0.64663   \n",
       "4                       river       RandomForestClassifier   0.65648   \n",
       "5   Keras on Tensorflow (CPU)                        Dense   0.61840   \n",
       "6               PyTorch (CPU)                       Linear   0.61840   \n",
       "7                scikit-learn                SGDClassifier   0.56161   \n",
       "8                scikit-learn  PassiveAggressiveClassifier   0.55009   \n",
       "9               scikit-garden       MondrianTreeClassifier   0.53875   \n",
       "10              scikit-garden     MondrianForestClassifier   0.60061   \n",
       "\n",
       "                        Fit time   Average fit time  \\\n",
       "0         2s, 653ms, 445μs, 18ns        26μs, 534ns   \n",
       "1        3s, 850ms, 575μs, 326ns        38μs, 506ns   \n",
       "2            285ms, 405μs, 586ns         2μs, 854ns   \n",
       "3        38s, 330ms, 11μs, 367ns       383μs, 300ns   \n",
       "4   6m, 30s, 695ms, 473μs, 639ns  3ms, 906μs, 955ns   \n",
       "5       44s, 266ms, 650μs, 369ns       442μs, 667ns   \n",
       "6       21s, 188ms, 666μs, 303ns       211μs, 887ns   \n",
       "7       26s, 520ms, 629μs, 619ns       265μs, 206ns   \n",
       "8        29s, 77ms, 978μs, 654ns       290μs, 780ns   \n",
       "9    1m, 3s, 318ms, 947μs, 905ns       633μs, 189ns   \n",
       "10  11m, 9s, 621ms, 450μs, 305ns  6ms, 696μs, 215ns   \n",
       "\n",
       "                   Predict time Average predict time  \n",
       "0       1s, 146ms, 206μs, 360ns          11μs, 462ns  \n",
       "1       2s, 364ms, 993μs, 939ns          23μs, 650ns  \n",
       "2   1m, 51s, 872ms, 59μs, 362ns    1ms, 118μs, 721ns  \n",
       "3       1s, 601ms, 316μs, 845ns           16μs, 13ns  \n",
       "4        20s, 755ms, 7μs, 824ns         207μs, 550ns  \n",
       "5      47s, 689ms, 863μs, 668ns         476μs, 899ns  \n",
       "6      12s, 717ms, 581μs, 991ns         127μs, 176ns  \n",
       "7       7s, 285ms, 170μs, 482ns          72μs, 852ns  \n",
       "8         8s, 305ms, 4μs, 333ns           83μs, 50ns  \n",
       "9      15s, 137ms, 836μs, 527ns         151μs, 378ns  \n",
       "10  1m, 22s, 43ms, 572μs, 456ns         820μs, 436ns  "
      ]
     },
     "execution_count": 8,
     "metadata": {},
     "output_type": "execute_result"
    }
   ],
   "source": [
    "results"
   ]
  }
 ],
 "metadata": {
  "kernelspec": {
   "display_name": "Python 3",
   "language": "python",
   "name": "python3"
  },
  "language_info": {
   "codemirror_mode": {
    "name": "ipython",
    "version": 3
   },
   "file_extension": ".py",
   "mimetype": "text/x-python",
   "name": "python",
   "nbconvert_exporter": "python",
   "pygments_lexer": "ipython3",
   "version": "3.7.4"
  }
 },
 "nbformat": 4,
 "nbformat_minor": 4
}
